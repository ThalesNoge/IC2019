{
 "cells": [
  {
   "cell_type": "code",
   "execution_count": null,
   "metadata": {},
   "outputs": [],
   "source": [
    "import pandas as pd\n",
    "import numpy as np\n",
    "import seaborn as sns\n",
    "import matplotlib.pyplot as plt\n",
    "import math\n",
    "from sklearn.preprocessing import StandardScaler\n",
    "from sklearn.preprocessing import normalize\n",
    "from sklearn.model_selection import train_test_split\n",
    "from sklearn.neural_network import MLPRegressor\n",
    "from sklearn.metrics import mean_squared_error, r2_score"
   ]
  },
  {
   "cell_type": "code",
   "execution_count": null,
   "metadata": {},
   "outputs": [],
   "source": [
    "db = pd.read_csv(\"C:/Users/thale/Desktop/Faculdade_e_Trabalho/IC/IC2019/itaCovid-19.csv\")"
   ]
  },
  {
   "cell_type": "code",
   "execution_count": null,
   "metadata": {
    "scrolled": true
   },
   "outputs": [],
   "source": [
    "db"
   ]
  },
  {
   "cell_type": "code",
   "execution_count": null,
   "metadata": {
    "scrolled": true
   },
   "outputs": [],
   "source": [
    "log = lambda x: math.log2(x)\n",
    "deslog = lambda x: 2**x\n",
    "y=db[\"Y\"]\n",
    "y=y.apply(log)\n",
    "X=db.drop('Y', axis=1)\n",
    "X=X.applymap(log)\n",
    "X_train, X_test, y_train, y_test = train_test_split(X, y, test_size = 0.2, random_state = 0)\n",
    "print(\"Training MLPRegressor...\") #20, 50, 100, 150\n",
    "reg = MLPRegressor(hidden_layer_sizes =(8,12,8 ),solver='adam',activation = 'relu',learning_rate='adaptive',learning_rate_init = 0.1,max_iter=10000, shuffle = False)\n",
    "reg.fit(X_train,y_train)\n"
   ]
  },
  {
   "cell_type": "code",
   "execution_count": null,
   "metadata": {},
   "outputs": [],
   "source": [
    "y_predict_train = reg.predict(X_train)\n",
    "print(\"teste de overfiting\")\n",
    "y_train= deslog(y_train)\n",
    "y_predict_train= deslog(y_predict_train)\n",
    "print(\"Mean squared error: %.2f\"\n",
    "      % mean_squared_error(y_train, y_predict_train))\n",
    "print('Variance score: %.2f' % r2_score(y_train, y_predict_train))\n",
    "plt.scatter(y_train,y_predict_train,marker='.')\n",
    "plt.show()\n"
   ]
  },
  {
   "cell_type": "code",
   "execution_count": null,
   "metadata": {
    "scrolled": true
   },
   "outputs": [],
   "source": [
    "y_predict= reg.predict(X_test)\n",
    "print(\"Resultados\")\n",
    "y_test= deslog(y_test)\n",
    "y_predict= deslog(y_predict)\n",
    "print(\"Mean squared error: %.2f\"\n",
    "      % mean_squared_error(y_test, y_predict))\n",
    "print('Variance score: %.2f' % r2_score(y_test, y_predict))\n",
    "plt.scatter(y_test,y_predict,marker='.')\n",
    "plt.show()"
   ]
  },
  {
   "cell_type": "code",
   "execution_count": null,
   "metadata": {},
   "outputs": [],
   "source": [
    "dbSp = pd.read_csv(\"C:/Users/thale/Desktop/Faculdade_e_Trabalho/IC/IC2019/SpaCovid-19.csv\")\n",
    "dbSp"
   ]
  },
  {
   "cell_type": "code",
   "execution_count": null,
   "metadata": {},
   "outputs": [],
   "source": [
    "ysp=dbSp[\"Y\"];\n",
    "ysp=ysp.apply(log)\n",
    "Xsp=dbSp.drop('Y', axis=1)\n",
    "Xsp=Xsp.applymap(log)\n",
    "X_trainsp, X_testsp, y_trainsp, y_testsp = train_test_split(Xsp, ysp, test_size = 0.2, random_state = 0)\n",
    "print(\"Training MLPRegressor...\")\n",
    "reg.fit(X_trainsp,y_trainsp)"
   ]
  },
  {
   "cell_type": "code",
   "execution_count": null,
   "metadata": {},
   "outputs": [],
   "source": [
    "y_predict_trainsp = reg.predict(X_trainsp)\n",
    "print(\"teste de overfiting\")\n",
    "y_trainsp= deslog(y_trainsp)\n",
    "y_predict_trainsp= deslog(y_predict_trainsp)\n",
    "print(\"Mean squared error: %.2f\"\n",
    "      % mean_squared_error(y_trainsp, y_predict_trainsp))\n",
    "print('Variance score: %.2f' % r2_score(y_trainsp, y_predict_trainsp))\n",
    "plt.scatter(y_trainsp,y_predict_trainsp,marker='.')\n",
    "plt.show()"
   ]
  },
  {
   "cell_type": "code",
   "execution_count": null,
   "metadata": {},
   "outputs": [],
   "source": [
    "y_predictsp= reg.predict(X_testsp)\n",
    "print(\"Resultados\")\n",
    "y_testsp= deslog(y_testsp)\n",
    "y_predictsp= deslog(y_predictsp)\n",
    "print(\"Mean squared error: %.2f\"\n",
    "      % mean_squared_error(y_testsp, y_predictsp))\n",
    "print('Variance score: %.2f' % r2_score(y_testsp, y_predictsp))\n",
    "plt.scatter(y_testsp,y_predictsp,marker='.')\n",
    "plt.show()"
   ]
  },
  {
   "cell_type": "code",
   "execution_count": null,
   "metadata": {},
   "outputs": [],
   "source": [
    "dbBr = pd.read_csv(\"C:/Users/thale/Desktop/Faculdade_e_Trabalho/IC/IC2019/Covid-19.csv\")\n",
    "dbBr= dbBr.drop('cases1',axis=1)\n",
    "xBr = dbBr.drop('Y', axis=1)\n",
    "xBr= xBr.applymap(log)\n",
    "yBr = dbBr['Y']\n",
    "yBr= yBr.apply(log)"
   ]
  },
  {
   "cell_type": "code",
   "execution_count": null,
   "metadata": {},
   "outputs": [],
   "source": [
    "YbrPred = reg.predict(xBr)\n",
    "print(\"Resultados\")\n",
    "print(\"Mean squared error: %.2f\"\n",
    "      % mean_squared_error(yBr, YbrPred))\n",
    "print('Variance score: %.2f' % r2_score(yBr, YbrPred))\n",
    "yBr = deslog(yBr)\n",
    "YbrPred=deslog(YbrPred)\n",
    "plt.scatter(yBr, YbrPred,marker='.')\n",
    "plt.show()"
   ]
  }
 ],
 "metadata": {
  "kernelspec": {
   "display_name": "Python 3",
   "language": "python",
   "name": "python3"
  },
  "language_info": {
   "codemirror_mode": {
    "name": "ipython",
    "version": 3
   },
   "file_extension": ".py",
   "mimetype": "text/x-python",
   "name": "python",
   "nbconvert_exporter": "python",
   "pygments_lexer": "ipython3",
   "version": "3.7.4"
  }
 },
 "nbformat": 4,
 "nbformat_minor": 2
}
