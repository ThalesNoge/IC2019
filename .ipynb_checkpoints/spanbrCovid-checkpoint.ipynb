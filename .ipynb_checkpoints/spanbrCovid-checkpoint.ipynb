{
 "cells": [
  {
   "cell_type": "code",
   "execution_count": 1,
   "metadata": {},
   "outputs": [],
   "source": [
    "import pandas as pd\n",
    "import numpy as np\n",
    "import seaborn as sns\n",
    "import matplotlib.pyplot as plt\n",
    "import math\n",
    "from sklearn.preprocessing import StandardScaler\n",
    "from sklearn.preprocessing import normalize\n",
    "from sklearn.model_selection import train_test_split\n",
    "from sklearn.neural_network import MLPRegressor\n",
    "from sklearn.metrics import mean_squared_error, r2_score"
   ]
  },
  {
   "cell_type": "code",
   "execution_count": 2,
   "metadata": {},
   "outputs": [],
   "source": [
    "dbSp = pd.read_csv(\"C:/Users/thale/Desktop/Faculdade_e_Trabalho/IC/IC2019/SpaCovid-19.csv\")"
   ]
  },
  {
   "cell_type": "code",
   "execution_count": 3,
   "metadata": {},
   "outputs": [
    {
     "name": "stdout",
     "output_type": "stream",
     "text": [
      "Training MLPRegressor...\n"
     ]
    },
    {
     "data": {
      "text/plain": [
       "MLPRegressor(activation='relu', alpha=0.0001, batch_size='auto', beta_1=0.9,\n",
       "             beta_2=0.999, early_stopping=False, epsilon=1e-08,\n",
       "             hidden_layer_sizes=(8, 12, 8), learning_rate='adaptive',\n",
       "             learning_rate_init=0.1, max_iter=10000, momentum=0.9,\n",
       "             n_iter_no_change=10, nesterovs_momentum=True, power_t=0.5,\n",
       "             random_state=None, shuffle=False, solver='adam', tol=0.0001,\n",
       "             validation_fraction=0.1, verbose=False, warm_start=False)"
      ]
     },
     "execution_count": 3,
     "metadata": {},
     "output_type": "execute_result"
    }
   ],
   "source": [
    "log = lambda x: math.log2(x)\n",
    "deslog = lambda x: 2**x\n",
    "ysp=dbSp[\"Y\"]\n",
    "ysp=ysp.apply(log)\n",
    "Xsp=dbSp.drop('Y', axis=1)\n",
    "Xsp=Xsp.applymap(log)\n",
    "X_trainsp, X_testsp, y_trainsp, y_testsp = train_test_split(Xsp, ysp, test_size = 0.2, random_state = 0)\n",
    "print(\"Training MLPRegressor...\")\n",
    "reg = MLPRegressor(hidden_layer_sizes =(8,12,8 ),solver='adam',activation = 'relu',learning_rate='adaptive',learning_rate_init = 0.1,max_iter=10000, shuffle = False)\n",
    "reg.fit(X_trainsp,y_trainsp)"
   ]
  },
  {
   "cell_type": "code",
   "execution_count": 4,
   "metadata": {},
   "outputs": [
    {
     "name": "stdout",
     "output_type": "stream",
     "text": [
      "teste de overfiting\n",
      "Mean squared error: 284613.07\n",
      "Variance score: 1.00\n"
     ]
    },
    {
     "data": {
      "image/png": "[encoded data removed]",
      "text/plain": [
       "<Figure size 432x288 with 1 Axes>"
      ]
     },
     "metadata": {
      "needs_background": "light"
     },
     "output_type": "display_data"
    }
   ],
   "source": [
    "y_predict_trainsp = reg.predict(X_trainsp)\n",
    "print(\"teste de overfiting\")\n",
    "y_trainsp= deslog(y_trainsp)\n",
    "y_predict_trainsp= deslog(y_predict_trainsp)\n",
    "print(\"Mean squared error: %.2f\"\n",
    "      % mean_squared_error(y_trainsp, y_predict_trainsp))\n",
    "print('Variance score: %.2f' % r2_score(y_trainsp, y_predict_trainsp))\n",
    "plt.scatter(y_trainsp,y_predict_trainsp,marker='.')\n",
    "plt.show()"
   ]
  },
  {
   "cell_type": "code",
   "execution_count": 5,
   "metadata": {},
   "outputs": [
    {
     "name": "stdout",
     "output_type": "stream",
     "text": [
      "Resultados\n",
      "Mean squared error: 395400.46\n",
      "Variance score: 1.00\n"
     ]
    },
    {
     "data": {
      "image/png": "[encoded data removed]",
      "text/plain": [
       "<Figure size 432x288 with 1 Axes>"
      ]
     },
     "metadata": {
      "needs_background": "light"
     },
     "output_type": "display_data"
    }
   ],
   "source": [
    "y_predictsp= reg.predict(X_testsp)\n",
    "print(\"Resultados\")\n",
    "y_testsp= deslog(y_testsp)\n",
    "y_predictsp= deslog(y_predictsp)\n",
    "print(\"Mean squared error: %.2f\"\n",
    "      % mean_squared_error(y_testsp, y_predictsp))\n",
    "print('Variance score: %.2f' % r2_score(y_testsp, y_predictsp))\n",
    "plt.scatter(y_testsp,y_predictsp,marker='.')\n",
    "plt.show()"
   ]
  },
  {
   "cell_type": "code",
   "execution_count": 6,
   "metadata": {},
   "outputs": [
    {
     "data": {
      "text/html": [
       "<div>\n",
       "<style scoped>\n",
       "    .dataframe tbody tr th:only-of-type {\n",
       "        vertical-align: middle;\n",
       "    }\n",
       "\n",
       "    .dataframe tbody tr th {\n",
       "        vertical-align: top;\n",
       "    }\n",
       "\n",
       "    .dataframe thead th {\n",
       "        text-align: right;\n",
       "    }\n",
       "</style>\n",
       "<table border=\"1\" class=\"dataframe\">\n",
       "  <thead>\n",
       "    <tr style=\"text-align: right;\">\n",
       "      <th></th>\n",
       "      <th>cases1</th>\n",
       "      <th>cases2</th>\n",
       "      <th>cases3</th>\n",
       "      <th>cases4</th>\n",
       "      <th>cases5</th>\n",
       "      <th>cases6</th>\n",
       "    </tr>\n",
       "  </thead>\n",
       "  <tbody>\n",
       "    <tr>\n",
       "      <td>0</td>\n",
       "      <td>0.000000</td>\n",
       "      <td>0.000000</td>\n",
       "      <td>0.000000</td>\n",
       "      <td>0.000000</td>\n",
       "      <td>1.000000</td>\n",
       "      <td>1.000000</td>\n",
       "    </tr>\n",
       "    <tr>\n",
       "      <td>1</td>\n",
       "      <td>0.000000</td>\n",
       "      <td>0.000000</td>\n",
       "      <td>0.000000</td>\n",
       "      <td>1.000000</td>\n",
       "      <td>1.000000</td>\n",
       "      <td>1.584963</td>\n",
       "    </tr>\n",
       "    <tr>\n",
       "      <td>2</td>\n",
       "      <td>0.000000</td>\n",
       "      <td>0.000000</td>\n",
       "      <td>1.000000</td>\n",
       "      <td>1.000000</td>\n",
       "      <td>1.584963</td>\n",
       "      <td>3.000000</td>\n",
       "    </tr>\n",
       "    <tr>\n",
       "      <td>3</td>\n",
       "      <td>0.000000</td>\n",
       "      <td>1.000000</td>\n",
       "      <td>1.000000</td>\n",
       "      <td>1.584963</td>\n",
       "      <td>3.000000</td>\n",
       "      <td>3.700440</td>\n",
       "    </tr>\n",
       "    <tr>\n",
       "      <td>4</td>\n",
       "      <td>1.000000</td>\n",
       "      <td>1.000000</td>\n",
       "      <td>1.584963</td>\n",
       "      <td>3.000000</td>\n",
       "      <td>3.700440</td>\n",
       "      <td>3.700440</td>\n",
       "    </tr>\n",
       "    <tr>\n",
       "      <td>5</td>\n",
       "      <td>1.000000</td>\n",
       "      <td>1.584963</td>\n",
       "      <td>3.000000</td>\n",
       "      <td>3.700440</td>\n",
       "      <td>3.700440</td>\n",
       "      <td>4.643856</td>\n",
       "    </tr>\n",
       "    <tr>\n",
       "      <td>6</td>\n",
       "      <td>1.584963</td>\n",
       "      <td>3.000000</td>\n",
       "      <td>3.700440</td>\n",
       "      <td>3.700440</td>\n",
       "      <td>4.643856</td>\n",
       "      <td>5.087463</td>\n",
       "    </tr>\n",
       "    <tr>\n",
       "      <td>7</td>\n",
       "      <td>3.000000</td>\n",
       "      <td>3.700440</td>\n",
       "      <td>3.700440</td>\n",
       "      <td>4.643856</td>\n",
       "      <td>5.087463</td>\n",
       "      <td>5.700440</td>\n",
       "    </tr>\n",
       "    <tr>\n",
       "      <td>8</td>\n",
       "      <td>3.700440</td>\n",
       "      <td>3.700440</td>\n",
       "      <td>4.643856</td>\n",
       "      <td>5.087463</td>\n",
       "      <td>5.700440</td>\n",
       "      <td>6.266787</td>\n",
       "    </tr>\n",
       "    <tr>\n",
       "      <td>9</td>\n",
       "      <td>3.700440</td>\n",
       "      <td>4.643856</td>\n",
       "      <td>5.087463</td>\n",
       "      <td>5.700440</td>\n",
       "      <td>6.266787</td>\n",
       "      <td>6.614710</td>\n",
       "    </tr>\n",
       "    <tr>\n",
       "      <td>10</td>\n",
       "      <td>4.643856</td>\n",
       "      <td>5.087463</td>\n",
       "      <td>5.700440</td>\n",
       "      <td>6.266787</td>\n",
       "      <td>6.614710</td>\n",
       "      <td>6.918863</td>\n",
       "    </tr>\n",
       "    <tr>\n",
       "      <td>11</td>\n",
       "      <td>5.087463</td>\n",
       "      <td>5.700440</td>\n",
       "      <td>6.266787</td>\n",
       "      <td>6.614710</td>\n",
       "      <td>6.918863</td>\n",
       "      <td>7.643856</td>\n",
       "    </tr>\n",
       "    <tr>\n",
       "      <td>12</td>\n",
       "      <td>5.700440</td>\n",
       "      <td>6.266787</td>\n",
       "      <td>6.614710</td>\n",
       "      <td>6.918863</td>\n",
       "      <td>7.643856</td>\n",
       "      <td>7.870365</td>\n",
       "    </tr>\n",
       "    <tr>\n",
       "      <td>13</td>\n",
       "      <td>6.266787</td>\n",
       "      <td>6.614710</td>\n",
       "      <td>6.918863</td>\n",
       "      <td>7.643856</td>\n",
       "      <td>7.870365</td>\n",
       "      <td>8.184875</td>\n",
       "    </tr>\n",
       "    <tr>\n",
       "      <td>14</td>\n",
       "      <td>6.614710</td>\n",
       "      <td>6.918863</td>\n",
       "      <td>7.643856</td>\n",
       "      <td>7.870365</td>\n",
       "      <td>8.184875</td>\n",
       "      <td>NaN</td>\n",
       "    </tr>\n",
       "    <tr>\n",
       "      <td>15</td>\n",
       "      <td>6.918863</td>\n",
       "      <td>7.643856</td>\n",
       "      <td>7.870365</td>\n",
       "      <td>8.184875</td>\n",
       "      <td>NaN</td>\n",
       "      <td>NaN</td>\n",
       "    </tr>\n",
       "    <tr>\n",
       "      <td>16</td>\n",
       "      <td>7.643856</td>\n",
       "      <td>7.870365</td>\n",
       "      <td>8.184875</td>\n",
       "      <td>NaN</td>\n",
       "      <td>NaN</td>\n",
       "      <td>NaN</td>\n",
       "    </tr>\n",
       "    <tr>\n",
       "      <td>17</td>\n",
       "      <td>7.870365</td>\n",
       "      <td>8.184875</td>\n",
       "      <td>NaN</td>\n",
       "      <td>NaN</td>\n",
       "      <td>NaN</td>\n",
       "      <td>NaN</td>\n",
       "    </tr>\n",
       "    <tr>\n",
       "      <td>18</td>\n",
       "      <td>8.184875</td>\n",
       "      <td>NaN</td>\n",
       "      <td>NaN</td>\n",
       "      <td>NaN</td>\n",
       "      <td>NaN</td>\n",
       "      <td>NaN</td>\n",
       "    </tr>\n",
       "  </tbody>\n",
       "</table>\n",
       "</div>"
      ],
      "text/plain": [
       "      cases1    cases2    cases3    cases4    cases5    cases6\n",
       "0   0.000000  0.000000  0.000000  0.000000  1.000000  1.000000\n",
       "1   0.000000  0.000000  0.000000  1.000000  1.000000  1.584963\n",
       "2   0.000000  0.000000  1.000000  1.000000  1.584963  3.000000\n",
       "3   0.000000  1.000000  1.000000  1.584963  3.000000  3.700440\n",
       "4   1.000000  1.000000  1.584963  3.000000  3.700440  3.700440\n",
       "5   1.000000  1.584963  3.000000  3.700440  3.700440  4.643856\n",
       "6   1.584963  3.000000  3.700440  3.700440  4.643856  5.087463\n",
       "7   3.000000  3.700440  3.700440  4.643856  5.087463  5.700440\n",
       "8   3.700440  3.700440  4.643856  5.087463  5.700440  6.266787\n",
       "9   3.700440  4.643856  5.087463  5.700440  6.266787  6.614710\n",
       "10  4.643856  5.087463  5.700440  6.266787  6.614710  6.918863\n",
       "11  5.087463  5.700440  6.266787  6.614710  6.918863  7.643856\n",
       "12  5.700440  6.266787  6.614710  6.918863  7.643856  7.870365\n",
       "13  6.266787  6.614710  6.918863  7.643856  7.870365  8.184875\n",
       "14  6.614710  6.918863  7.643856  7.870365  8.184875       NaN\n",
       "15  6.918863  7.643856  7.870365  8.184875       NaN       NaN\n",
       "16  7.643856  7.870365  8.184875       NaN       NaN       NaN\n",
       "17  7.870365  8.184875       NaN       NaN       NaN       NaN\n",
       "18  8.184875       NaN       NaN       NaN       NaN       NaN"
      ]
     },
     "execution_count": 6,
     "metadata": {},
     "output_type": "execute_result"
    }
   ],
   "source": [
    "dbBr = pd.read_csv(\"C:/Users/thale/Desktop/Faculdade_e_Trabalho/IC/IC2019/Covid-19.csv\")\n",
    "xBr = dbBr.drop('Y', axis=1)\n",
    "xBr= xBr.applymap(log)\n",
    "yBr = dbBr['Y']\n",
    "yBr= yBr.apply(log)\n",
    "xBr"
   ]
  },
  {
   "cell_type": "code",
   "execution_count": 7,
   "metadata": {},
   "outputs": [
    {
     "data": {
      "text/plain": [
       "[<matplotlib.lines.Line2D at 0x188d67b3d48>]"
      ]
     },
     "execution_count": 7,
     "metadata": {},
     "output_type": "execute_result"
    },
    {
     "data": {
      "image/png": "[encoded data removed]",
      "text/plain": [
       "<Figure size 432x288 with 1 Axes>"
      ]
     },
     "metadata": {
      "needs_background": "light"
     },
     "output_type": "display_data"
    }
   ],
   "source": [
    "for i in range(0,14):\n",
    "    linha = xBr.loc[(13+i)]\n",
    "    Ypred = reg.predict([linha])\n",
    "    xBr.at[(14+i),'cases6']=Ypred\n",
    "    xBr.at[(15+i),'cases5']=Ypred\n",
    "    xBr.at[(16+i),'cases4']=Ypred\n",
    "    xBr.at[(17+i),'cases3']=Ypred\n",
    "    xBr.at[(18+i),'cases2']=Ypred\n",
    "    xBr.at[(19+i),'cases1']=Ypred\n",
    "xBr = xBr.applymap(deslog)\n",
    "xBr\n",
    "lista1 = []\n",
    "lista2 = []\n",
    "for i in range(0,35):\n",
    "    if(i<33):\n",
    "        lista1.append(i)\n",
    "    lista2.append(i)\n",
    "CovidBr = pd.read_csv(\"C:/Users/thale/Desktop/Faculdade_e_Trabalho/IC/IC2019/covid-19UmaColuna.csv\")\n",
    "plt.xlabel('Dias')\n",
    "plt.ylabel('Casos')\n",
    "plt.plot(lista1,xBr['cases1'],linestyle='--', color='r', marker='.', linewidth=0.5)\n",
    "plt.plot(lista2,CovidBr['cases'],linestyle='--', color='b', marker='.', linewidth=0.5)\n"
   ]
  },
  {
   "cell_type": "code",
   "execution_count": null,
   "metadata": {},
   "outputs": [],
   "source": []
  }
 ],
 "metadata": {
  "kernelspec": {
   "display_name": "Python 3",
   "language": "python",
   "name": "python3"
  },
  "language_info": {
   "codemirror_mode": {
    "name": "ipython",
    "version": 3
   },
   "file_extension": ".py",
   "mimetype": "text/x-python",
   "name": "python",
   "nbconvert_exporter": "python",
   "pygments_lexer": "ipython3",
   "version": "3.7.4"
  }
 },
 "nbformat": 4,
 "nbformat_minor": 2
}
