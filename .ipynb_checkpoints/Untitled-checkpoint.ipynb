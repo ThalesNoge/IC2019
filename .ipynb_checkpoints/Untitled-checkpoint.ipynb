{
 "cells": [
  {
   "cell_type": "code",
   "execution_count": 1,
   "metadata": {},
   "outputs": [],
   "source": [
    "import pandas as pd\n",
    "import seaborn as sns\n",
    "import matplotlib.pyplot as plt\n",
    "from sklearn.model_selection import train_test_split\n",
    "from sklearn.neural_network import MLPRegressor\n",
    "from sklearn.metrics import mean_squared_error, r2_score"
   ]
  },
  {
   "cell_type": "code",
   "execution_count": 2,
   "metadata": {},
   "outputs": [],
   "source": [
    "wine = pd.read_csv('C:/Users/thales.nogueira/Desktop/winequality-red.csv')"
   ]
  },
  {
   "cell_type": "code",
   "execution_count": 3,
   "metadata": {},
   "outputs": [
    {
     "data": {
      "text/html": [
       "<div>\n",
       "<style scoped>\n",
       "    .dataframe tbody tr th:only-of-type {\n",
       "        vertical-align: middle;\n",
       "    }\n",
       "\n",
       "    .dataframe tbody tr th {\n",
       "        vertical-align: top;\n",
       "    }\n",
       "\n",
       "    .dataframe thead th {\n",
       "        text-align: right;\n",
       "    }\n",
       "</style>\n",
       "<table border=\"1\" class=\"dataframe\">\n",
       "  <thead>\n",
       "    <tr style=\"text-align: right;\">\n",
       "      <th></th>\n",
       "      <th>fixed acidity</th>\n",
       "      <th>volatile acidity</th>\n",
       "      <th>citric acid</th>\n",
       "      <th>residual sugar</th>\n",
       "      <th>chlorides</th>\n",
       "      <th>free sulfur dioxide</th>\n",
       "      <th>total sulfur dioxide</th>\n",
       "      <th>density</th>\n",
       "      <th>pH</th>\n",
       "      <th>sulphates</th>\n",
       "      <th>alcohol</th>\n",
       "      <th>quality</th>\n",
       "    </tr>\n",
       "  </thead>\n",
       "  <tbody>\n",
       "    <tr>\n",
       "      <th>0</th>\n",
       "      <td>7.4</td>\n",
       "      <td>0.70</td>\n",
       "      <td>0.00</td>\n",
       "      <td>1.9</td>\n",
       "      <td>0.076</td>\n",
       "      <td>11.0</td>\n",
       "      <td>34.0</td>\n",
       "      <td>0.9978</td>\n",
       "      <td>3.51</td>\n",
       "      <td>0.56</td>\n",
       "      <td>9.4</td>\n",
       "      <td>5</td>\n",
       "    </tr>\n",
       "    <tr>\n",
       "      <th>1</th>\n",
       "      <td>7.8</td>\n",
       "      <td>0.88</td>\n",
       "      <td>0.00</td>\n",
       "      <td>2.6</td>\n",
       "      <td>0.098</td>\n",
       "      <td>25.0</td>\n",
       "      <td>67.0</td>\n",
       "      <td>0.9968</td>\n",
       "      <td>3.20</td>\n",
       "      <td>0.68</td>\n",
       "      <td>9.8</td>\n",
       "      <td>5</td>\n",
       "    </tr>\n",
       "    <tr>\n",
       "      <th>2</th>\n",
       "      <td>7.8</td>\n",
       "      <td>0.76</td>\n",
       "      <td>0.04</td>\n",
       "      <td>2.3</td>\n",
       "      <td>0.092</td>\n",
       "      <td>15.0</td>\n",
       "      <td>54.0</td>\n",
       "      <td>0.9970</td>\n",
       "      <td>3.26</td>\n",
       "      <td>0.65</td>\n",
       "      <td>9.8</td>\n",
       "      <td>5</td>\n",
       "    </tr>\n",
       "    <tr>\n",
       "      <th>3</th>\n",
       "      <td>11.2</td>\n",
       "      <td>0.28</td>\n",
       "      <td>0.56</td>\n",
       "      <td>1.9</td>\n",
       "      <td>0.075</td>\n",
       "      <td>17.0</td>\n",
       "      <td>60.0</td>\n",
       "      <td>0.9980</td>\n",
       "      <td>3.16</td>\n",
       "      <td>0.58</td>\n",
       "      <td>9.8</td>\n",
       "      <td>6</td>\n",
       "    </tr>\n",
       "    <tr>\n",
       "      <th>4</th>\n",
       "      <td>7.4</td>\n",
       "      <td>0.70</td>\n",
       "      <td>0.00</td>\n",
       "      <td>1.9</td>\n",
       "      <td>0.076</td>\n",
       "      <td>11.0</td>\n",
       "      <td>34.0</td>\n",
       "      <td>0.9978</td>\n",
       "      <td>3.51</td>\n",
       "      <td>0.56</td>\n",
       "      <td>9.4</td>\n",
       "      <td>5</td>\n",
       "    </tr>\n",
       "  </tbody>\n",
       "</table>\n",
       "</div>"
      ],
      "text/plain": [
       "   fixed acidity  volatile acidity  citric acid  residual sugar  chlorides  \\\n",
       "0            7.4              0.70         0.00             1.9      0.076   \n",
       "1            7.8              0.88         0.00             2.6      0.098   \n",
       "2            7.8              0.76         0.04             2.3      0.092   \n",
       "3           11.2              0.28         0.56             1.9      0.075   \n",
       "4            7.4              0.70         0.00             1.9      0.076   \n",
       "\n",
       "   free sulfur dioxide  total sulfur dioxide  density    pH  sulphates  \\\n",
       "0                 11.0                  34.0   0.9978  3.51       0.56   \n",
       "1                 25.0                  67.0   0.9968  3.20       0.68   \n",
       "2                 15.0                  54.0   0.9970  3.26       0.65   \n",
       "3                 17.0                  60.0   0.9980  3.16       0.58   \n",
       "4                 11.0                  34.0   0.9978  3.51       0.56   \n",
       "\n",
       "   alcohol  quality  \n",
       "0      9.4        5  \n",
       "1      9.8        5  \n",
       "2      9.8        5  \n",
       "3      9.8        6  \n",
       "4      9.4        5  "
      ]
     },
     "execution_count": 3,
     "metadata": {},
     "output_type": "execute_result"
    }
   ],
   "source": [
    "wine.head()"
   ]
  },
  {
   "cell_type": "code",
   "execution_count": 4,
   "metadata": {},
   "outputs": [
    {
     "name": "stdout",
     "output_type": "stream",
     "text": [
      "<class 'pandas.core.frame.DataFrame'>\n",
      "RangeIndex: 1599 entries, 0 to 1598\n",
      "Data columns (total 12 columns):\n",
      "fixed acidity           1599 non-null float64\n",
      "volatile acidity        1599 non-null float64\n",
      "citric acid             1599 non-null float64\n",
      "residual sugar          1599 non-null float64\n",
      "chlorides               1599 non-null float64\n",
      "free sulfur dioxide     1599 non-null float64\n",
      "total sulfur dioxide    1599 non-null float64\n",
      "density                 1599 non-null float64\n",
      "pH                      1599 non-null float64\n",
      "sulphates               1599 non-null float64\n",
      "alcohol                 1599 non-null float64\n",
      "quality                 1599 non-null int64\n",
      "dtypes: float64(11), int64(1)\n",
      "memory usage: 150.0 KB\n"
     ]
    }
   ],
   "source": [
    "wine.info()"
   ]
  },
  {
   "cell_type": "code",
   "execution_count": 5,
   "metadata": {},
   "outputs": [
    {
     "data": {
      "text/plain": [
       "<matplotlib.axes._subplots.AxesSubplot at 0x4f04240>"
      ]
     },
     "execution_count": 5,
     "metadata": {},
     "output_type": "execute_result"
    },
    {
     "data": {
      "image/png": "[encoded data removed]",
      "text/plain": [
       "<Figure size 720x432 with 1 Axes>"
      ]
     },
     "metadata": {},
     "output_type": "display_data"
    }
   ],
   "source": [
    "fig = plt.figure(figsize = (10,6))\n",
    "sns.barplot(x = 'quality', y = 'fixed acidity', data = wine)"
   ]
  },
  {
   "cell_type": "code",
   "execution_count": 6,
   "metadata": {},
   "outputs": [
    {
     "data": {
      "text/plain": [
       "<matplotlib.axes._subplots.AxesSubplot at 0x4f99fd0>"
      ]
     },
     "execution_count": 6,
     "metadata": {},
     "output_type": "execute_result"
    },
    {
     "data": {
      "image/png": "[encoded data removed]",
      "text/plain": [
       "<Figure size 720x432 with 1 Axes>"
      ]
     },
     "metadata": {},
     "output_type": "display_data"
    }
   ],
   "source": [
    "fig = plt.figure(figsize = (10,6))\n",
    "sns.barplot(x = 'quality', y = 'alcohol', data = wine)"
   ]
  },
  {
   "cell_type": "code",
   "execution_count": 7,
   "metadata": {},
   "outputs": [],
   "source": [
    "X = wine.drop('quality', axis = 1)\n",
    "y = wine['quality']"
   ]
  },
  {
   "cell_type": "code",
   "execution_count": 8,
   "metadata": {},
   "outputs": [],
   "source": [
    "X_train, X_test, y_train, y_test = train_test_split(X, y, test_size = 0.2, random_state = 42)"
   ]
  },
  {
   "cell_type": "code",
   "execution_count": 9,
   "metadata": {},
   "outputs": [
    {
     "name": "stdout",
     "output_type": "stream",
     "text": [
      "Training MLPRegressor...\n"
     ]
    }
   ],
   "source": [
    "print(\"Training MLPRegressor...\")\n",
    "reg = MLPRegressor(hidden_layer_sizes =(30,30,30, ),solver='lbfgs',learning_rate='constant',learning_rate_init = 0.1,max_iter=20000)"
   ]
  },
  {
   "cell_type": "code",
   "execution_count": 10,
   "metadata": {},
   "outputs": [
    {
     "data": {
      "text/plain": [
       "MLPRegressor(activation='relu', alpha=0.0001, batch_size='auto', beta_1=0.9,\n",
       "       beta_2=0.999, early_stopping=False, epsilon=1e-08,\n",
       "       hidden_layer_sizes=(30, 30, 30), learning_rate='constant',\n",
       "       learning_rate_init=0.1, max_iter=20000, momentum=0.9,\n",
       "       nesterovs_momentum=True, power_t=0.5, random_state=None,\n",
       "       shuffle=True, solver='lbfgs', tol=0.0001, validation_fraction=0.1,\n",
       "       verbose=False, warm_start=False)"
      ]
     },
     "execution_count": 10,
     "metadata": {},
     "output_type": "execute_result"
    }
   ],
   "source": [
    "reg.fit(X_train,y_train)"
   ]
  },
  {
   "cell_type": "code",
   "execution_count": 11,
   "metadata": {},
   "outputs": [],
   "source": [
    "y_predict= reg.predict(X_test)"
   ]
  },
  {
   "cell_type": "code",
   "execution_count": 12,
   "metadata": {},
   "outputs": [
    {
     "name": "stdout",
     "output_type": "stream",
     "text": [
      "Mean squared error: 0.38\n"
     ]
    }
   ],
   "source": [
    "print(\"Mean squared error: %.2f\"\n",
    "      % mean_squared_error(y_test, y_predict))"
   ]
  },
  {
   "cell_type": "code",
   "execution_count": 13,
   "metadata": {},
   "outputs": [
    {
     "name": "stdout",
     "output_type": "stream",
     "text": [
      "Variance score: 0.42\n"
     ]
    }
   ],
   "source": [
    "print('Variance score: %.2f' % r2_score(y_test, y_predict))"
   ]
  },
  {
   "cell_type": "code",
   "execution_count": 23,
   "metadata": {},
   "outputs": [
    {
     "name": "stdout",
     "output_type": "stream",
     "text": [
      "803     6\n",
      "124     5\n",
      "350     6\n",
      "682     5\n",
      "1326    6\n",
      "976     5\n",
      "1493    5\n",
      "706     5\n",
      "613     5\n",
      "1587    6\n",
      "513     7\n",
      "1505    3\n",
      "1525    5\n",
      "1568    5\n",
      "220     6\n",
      "1010    7\n",
      "30      5\n",
      "942     7\n",
      "481     8\n",
      "135     5\n",
      "65      5\n",
      "99      6\n",
      "1547    5\n",
      "1311    6\n",
      "29      6\n",
      "745     6\n",
      "538     7\n",
      "168     6\n",
      "274     5\n",
      "271     6\n",
      "       ..\n",
      "1244    6\n",
      "1120    8\n",
      "544     6\n",
      "1262    5\n",
      "192     5\n",
      "968     6\n",
      "63      5\n",
      "874     7\n",
      "965     6\n",
      "1106    6\n",
      "650     5\n",
      "615     5\n",
      "857     7\n",
      "528     6\n",
      "628     6\n",
      "218     5\n",
      "1175    6\n",
      "286     6\n",
      "1287    5\n",
      "950     7\n",
      "1342    6\n",
      "1073    6\n",
      "1314    6\n",
      "597     6\n",
      "485     5\n",
      "1259    6\n",
      "1295    5\n",
      "1155    5\n",
      "963     6\n",
      "704     4\n",
      "Name: quality, Length: 320, dtype: int64 [5.49156988 5.18667968 5.79995784 5.38360522 5.83070375 5.16262944\n",
      " 5.22196315 4.89589152 5.90474961 5.6607825  6.40855745 5.032131\n",
      " 5.67451271 5.26140551 5.42971809 7.01114546 5.30762829 5.68353266\n",
      " 6.88222239 5.22517835 4.85045441 5.28819506 5.57546777 6.14460306\n",
      " 5.48292668 5.58680112 6.63717712 5.1904292  5.32442123 6.21002108\n",
      " 4.96108309 5.54612114 5.82113625 5.30223252 5.60810732 5.14199874\n",
      " 6.05325082 5.60379751 5.69344669 6.55691983 5.52015961 5.20242299\n",
      " 6.38260752 5.07483966 6.42699897 5.77440613 6.48292183 5.62737291\n",
      " 5.20848827 5.67292004 5.30884712 4.9926904  5.38048676 6.22350326\n",
      " 5.20814003 5.02055966 5.85992836 5.32907049 5.95749842 5.38934671\n",
      " 5.76485205 5.93129073 5.32688465 5.08061496 7.01771844 5.35063449\n",
      " 6.47586751 5.07707443 5.67174868 5.31204516 6.23524438 5.1650633\n",
      " 5.9500305  5.8337447  5.9735715  5.44497359 6.41054789 5.85713498\n",
      " 5.96536927 5.91396729 4.99434054 6.44118258 5.41124914 5.74914339\n",
      " 5.81163274 6.44393571 5.31904464 5.687338   6.42863113 4.9155283\n",
      " 6.07726679 5.54834107 5.29951692 5.74136578 5.14592837 6.11371001\n",
      " 5.03729787 6.29706253 4.67843278 5.61417613 4.87832078 5.11211628\n",
      " 5.86267595 6.26233617 5.51600413 6.22352118 5.64251202 5.36179712\n",
      " 6.30597169 5.11736427 6.51095095 5.16718228 5.74011732 4.95175057\n",
      " 5.94234464 6.073637   5.89316429 5.60703989 5.24027564 5.92906481\n",
      " 5.90439454 5.4021953  5.86509614 5.31956072 5.5546273  5.29518958\n",
      " 6.30432749 5.88665571 5.18390352 5.89841557 5.9500305  4.94627884\n",
      " 5.20408026 6.1461942  5.67292004 5.22516697 5.11006378 5.30930011\n",
      " 4.94339103 5.78654084 5.71296255 6.41993751 6.30346934 4.95051646\n",
      " 6.38391401 5.14719626 5.73487052 5.52765601 6.02331603 4.9767577\n",
      " 5.72134876 6.28741984 5.24826494 5.6994995  5.9500305  6.27992629\n",
      " 5.32214246 5.91734842 5.64805267 5.99792411 6.23562387 5.65714941\n",
      " 6.12231872 5.11211633 5.29846671 5.63974467 4.86577063 5.35072306\n",
      " 4.90641737 5.00944121 5.10948457 5.15171176 6.86844827 5.5340523\n",
      " 6.82527547 6.05510395 5.41467289 4.92846143 5.30662305 5.57787341\n",
      " 3.33052747 6.30075834 5.54928631 6.87131634 4.83610263 6.45671765\n",
      " 5.17070168 5.81009836 7.61449979 5.5340523  5.43437931 6.25276462\n",
      " 5.6025165  6.35997724 5.31327077 5.36684187 4.90755955 5.34837509\n",
      " 5.61742346 6.22352118 5.36971539 5.21531915 5.44075764 5.26894673\n",
      " 6.7616368  5.37159411 4.73309953 5.72031755 5.82491743 5.27484678\n",
      " 6.27679211 4.9927815  5.73166888 6.62518023 6.86332903 6.0838379\n",
      " 5.78087483 5.18747281 5.51167395 5.10675813 5.19435323 5.67313394\n",
      " 6.47677691 6.12807251 5.33403541 4.86491214 5.34447249 6.22930191\n",
      " 5.28890061 5.46641211 5.48440105 5.16529911 6.6750096  5.70055913\n",
      " 5.68153051 6.22352118 5.37416772 5.81163274 4.65236203 5.01212734\n",
      " 5.42571762 5.10949052 5.82503329 6.04318888 5.29632173 5.75711224\n",
      " 6.10854828 5.02796901 7.26190605 5.17896267 5.82120126 5.55896424\n",
      " 5.25916687 5.75450444 4.79810004 5.30945525 5.18684912 5.74626644\n",
      " 5.70769228 6.24256206 5.93525448 5.91204864 4.92846143 7.34681813\n",
      " 5.80045267 7.28232523 4.94072275 5.04987451 5.96729301 6.12891519\n",
      " 5.03573227 5.97019704 5.40349584 5.22222499 5.17516622 5.7190787\n",
      " 5.65984843 5.92752596 6.42862599 5.48220569 6.37515337 4.81171763\n",
      " 5.32029081 5.17714016 5.28126799 5.89331969 4.97976943 6.41993751\n",
      " 5.11181759 5.97084104 6.13236076 6.51471735 5.17347449 5.46374632\n",
      " 5.10987824 6.3904534  5.08046489 6.62023772 6.30677725 6.76002168\n",
      " 5.61446635 5.07753306 6.39692307 5.25435465 5.4070149  4.96762055\n",
      " 5.97813665 5.88924951 5.53863138 6.82987611 5.64410282 5.69123687\n",
      " 5.54726954 5.46622726 5.30223252 5.87576239 5.31235077 5.2659408\n",
      " 6.70696104 4.88615418]\n"
     ]
    },
    {
     "data": {
      "image/png": "[encoded data removed]",
      "text/plain": [
       "<Figure size 432x288 with 1 Axes>"
      ]
     },
     "metadata": {},
     "output_type": "display_data"
    }
   ],
   "source": [
    "print(y_test,y_predict)\n",
    "plt.scatter(y_test,y_predict,marker='^')\n",
    "plt.show()"
   ]
  },
  {
   "cell_type": "code",
   "execution_count": null,
   "metadata": {},
   "outputs": [],
   "source": []
  },
  {
   "cell_type": "code",
   "execution_count": null,
   "metadata": {},
   "outputs": [],
   "source": []
  }
 ],
 "metadata": {
  "kernelspec": {
   "display_name": "Python 3",
   "language": "python",
   "name": "python3"
  },
  "language_info": {
   "codemirror_mode": {
    "name": "ipython",
    "version": 3
   },
   "file_extension": ".py",
   "mimetype": "text/x-python",
   "name": "python",
   "nbconvert_exporter": "python",
   "pygments_lexer": "ipython3",
   "version": "3.6.5"
  }
 },
 "nbformat": 4,
 "nbformat_minor": 2
}
