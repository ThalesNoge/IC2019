{
 "cells": [
  {
   "cell_type": "code",
   "execution_count": 1,
   "metadata": {},
   "outputs": [],
   "source": [
    "import pandas as pd\n",
    "import numpy as np\n",
    "import matplotlib.pyplot as plt\n",
    "import math\n",
    "import statistics\n",
    "from sklearn.model_selection import train_test_split\n",
    "from sklearn.metrics import mean_squared_error, r2_score, explained_variance_score\n",
    "from sklearn.neural_network import MLPClassifier\n",
    "#######\n",
    "import sklearn.cluster\n",
    "from sklearn.metrics.pairwise import euclidean_distances\n",
    "import sklearn.metrics\n",
    "import sklearn.linear_model\n",
    "########\n",
    "from random import randint"
   ]
  },
  {
   "cell_type": "code",
   "execution_count": 2,
   "metadata": {},
   "outputs": [],
   "source": [
    "class RBFNetwork(object):\n",
    "    \"\"\"Rede Neural com Funções de Base Radial com uma única camada oculta.\n",
    "    \n",
    "    Essa é uma rede com três camadas.\n",
    "        1) Camada de Entrada: Recebe os atributos usados como input.\n",
    "        2) Camada Oculta: Aplica transformações não lineares sobre os dados\n",
    "        de entrada, dadas pelo kernel para cada um dos centróides,\n",
    "        ampliando o espaço de entrada para o espaço da rede oculta.\n",
    "        3) Camada de Saída: Realiza a combinação linear das saídas da Camada\n",
    "        Oculta.\n",
    "        \n",
    "    TREINAMENTO:\n",
    "    Essa implementação utiliza o Kernel Gaussiano para a transformação da \n",
    "    camada oculta. São escolhidos number_of_centers centroides através do \n",
    "    K-Means sobre os dados de treinamento, com K = number_of_centers. \n",
    "    Para a execução do K-Means, foi utilizada a implementação do \n",
    "    sklearn.cluster.KMeans, iniciado com n_clusters = self.number_of_centers e\n",
    "    random_state = self.random_state.\n",
    "\n",
    "    Após o fit do KMeans, obteu-se os centros das agregações e, para\n",
    "    cada agregação, o desvio padrão entre as observações daquela agregação\n",
    "    e seu centro.\n",
    "\n",
    "    Com esses valores, criou-se number_of_centers funções gaussianas, \n",
    "    centradas nos centros encontrados e com o parâmetro sigma igual ao\n",
    "    desvio padrão.\n",
    "\n",
    "    Em seguida, os dados de entrada são transformados para o espaço da camada\n",
    "    oculta, aplicando o kernel para cada uma das observações. Por precaução,\n",
    "     transforma-se os valores nan em 0. Esses dados são armazenados numa nova\n",
    "     features_array, que representa os valores na Camada Oculta.\n",
    "\n",
    "    Para realizar o ajuste dos pesos entre a Camada Oculta e a Camada de Saída,\n",
    "    composta de um único neurônio, utilizou-se a classe do scikit-learn\n",
    "    sklearn.linear_model.LinearRegression, com a features_array e os valores de\n",
    "    y.\n",
    "\n",
    "    PREDIÇÕES\n",
    "    Uma vez que a classe esteja treinada, as predições são realizadas da seguinte\n",
    "    forma:\n",
    "        1) Transforma-se os valores de entrada para a Camada Oculta(features_array) utilizando\n",
    "        os kernels calculados no treinamento.\n",
    "        2) Utiliza-se os valores da Camada Oculta como entrada para o regressor\n",
    "        linear treinado(sklearn.linear_model.LinearRegression).\n",
    "        3) Retorna o resultado da regressão linear.\n",
    "    \n",
    "    Parameters\n",
    "    ----------\n",
    "    number_of_centers: integer, required\n",
    "        O número de centróides/neurônios que existirão na Camada Oculta.\n",
    "    random_state: integer, optional, default = 42\n",
    "        Determina o número usado para o estado aleatório do K=Means.\n",
    "    \"\"\"\n",
    "\n",
    "    def __init__(self, number_of_centers, random_state=42):\n",
    "        \"\"\"[summary]\n",
    "                \n",
    "        Arguments:\n",
    "            number_of_centers {integer} -- The number of the centers\n",
    "        \n",
    "        Keyword Arguments:\n",
    "            random_state {int} -- Random state, to be used with the internal algorithms (default: {42})\n",
    "        \"\"\"        \n",
    "\n",
    "        self.number_of_centers = number_of_centers\n",
    "        self.centers = None\n",
    "        self.centers_std = None\n",
    "        self.kernels = None\n",
    "        self.random_state = random_state\n",
    "        # Usado para fazer o ajuste linear após a alteração do espaço de entrada\n",
    "        self.algorithm = sklearn.linear_model.LinearRegression()\n",
    "\n",
    "    @staticmethod\n",
    "    def make_gaussian_kernel(center, sigma):\n",
    "        ''' Creates a Gaussian Kernel function that takes X and calculate the\n",
    "        distance from the center with the sigma deviation. \n",
    "        '''\n",
    "        variance = sigma**2\n",
    "        if(variance == 0):\n",
    "             variance = 1e-10\n",
    "        gamma = 2*(variance)\n",
    "        reshaped_center = np.reshape(center, newshape=(1, -1))\n",
    "\n",
    "        def gaussian(X):\n",
    "            dist = euclidean_distances(X, reshaped_center, squared=True)\n",
    "            normalization_constant = 1/(2*np.pi*variance)\n",
    "            return normalization_constant * np.exp(-(dist/gamma))\n",
    "        return gaussian\n",
    "\n",
    "    def fit(self, X, y):\n",
    "        \"\"\"\n",
    "        Faz o ajuste da rede artificial RBF. \n",
    "\n",
    "        \n",
    "        Essa implementação utiliza o Kernel Gaussiano para a transformação da \n",
    "        camada oculta. São escolhidos number_of_centers centroides através do \n",
    "        K-Means sobre os dados de treinamento, com K = number_of_centers. \n",
    "        Para a execução do K-Means, foi utilizada a implementação do \n",
    "        sklearn.cluster.KMeans, iniciado com n_clusters = self.number_of_centers e\n",
    "        random_state = self.random_state.\n",
    "\n",
    "        Após o fit do KMeans, obteu-se os centros das agregações e, para\n",
    "        cada agregação, o desvio padrão entre as observações daquela agregação\n",
    "        e seu centro.\n",
    "\n",
    "        Com esses valores, criou-se number_of_centers funções gaussianas, \n",
    "        centradas nos centros encontrados e com o parâmetro sigma igual ao\n",
    "        desvio padrão.\n",
    "\n",
    "        Em seguida, os dados de entrada são transformados para o espaço da camada\n",
    "        oculta, aplicando o kernel para cada uma das observações. Por precaução,\n",
    "        transforma-se os valores nan em 0. Esses dados são armazenados numa nova\n",
    "        features_array, que representa os valores na Camada Oculta.\n",
    "\n",
    "        Para realizar o ajuste dos pesos entre a Camada Oculta e a Camada de Saída,\n",
    "        composta de um único neurônio, utilizou-se a classe do scikit-learn\n",
    "        sklearn.linear_model.LinearRegression, com a features_array e os valores de\n",
    "        y.\n",
    "\n",
    "        Parameters\n",
    "        ----------\n",
    "        X: Atributos fornecidos para o treinamento do algoritmo\n",
    "        y: Valores alvo para o algoritmo.\n",
    "        \"\"\"\n",
    "        self._fit_centers(X, y)\n",
    "        self._generate_radial_functions()\n",
    "\n",
    "        transformed_X = self._transformed_inputs(X)\n",
    "        self._linear_fit(transformed_X, y)\n",
    "\n",
    "    def predict(self, X):\n",
    "        \"\"\"Função usada para a predição dos valores.\n",
    "    \n",
    "        Uma vez que a classe esteja treinada, as predições são realizadas da seguinte\n",
    "        forma:\n",
    "            1) Transforma-se os valores de entrada para a Camada Oculta(features_array) utilizando\n",
    "            os kernels calculados no treinamento.\n",
    "            2) Utiliza-se os valores da Camada Oculta como entrada para o regressor\n",
    "            linear treinado(sklearn.linear_model.LinearRegression).\n",
    "            3) Retorna o resultado da regressão linear.\n",
    "        \n",
    "        Parameter\n",
    "        ---------\n",
    "        X: Atributos que alimentarão a Camada de Entrada.\n",
    "        \"\"\"\n",
    "        transformed_X = self._transformed_inputs(X)\n",
    "        return (self.algorithm.predict(transformed_X))\n",
    "\n",
    "    def _fit_centers(self, X, y=None):\n",
    "        \"\"\"Essa função obtem o centróides e os desvios padrão utilizados\n",
    "        para calcular os kernels.\"\"\"\n",
    "        kmeans = sklearn.cluster.KMeans(n_clusters=self.number_of_centers,\n",
    "                                        random_state=self.random_state)\n",
    "        kmeans.fit(X)\n",
    "        self.centers = kmeans.cluster_centers_\n",
    "        groups = kmeans.predict(X)\n",
    "\n",
    "        center_distances = euclidean_distances(X, self.centers)\n",
    "        center_distances_df = pd.DataFrame(center_distances)\n",
    "        center_distances_df['classe'] = groups\n",
    "\n",
    "        # Calculate the std from the center\n",
    "        # Note that the center_distances_df has the distance from each center\n",
    "        center_distances_std = center_distances_df.groupby('classe').std()\n",
    "        self.centers_std = np.diag(center_distances_std)\n",
    "\n",
    "    def _generate_radial_functions(self):\n",
    "        \"\"\"Essa função cria a lista de kernels usada para gerar a Camada Oculta.\"\"\"\n",
    "        self.kernels = list()\n",
    "        for cluster_center, cluster_deviance in zip(self.centers, self.centers_std):\n",
    "            kernel = self.make_gaussian_kernel(\n",
    "                cluster_center, cluster_deviance)#mexi aqui\n",
    "            self.kernels.append(kernel)\n",
    "\n",
    "    def _transformed_inputs(self, X):\n",
    "        \"\"\"Transforma os dados do Espaço de Entrada para o Espaço da Camada Oculta.\n",
    "        \n",
    "        Essa função aplica os kernels da RBFN nos dados de entrada, criando uma array\n",
    "        que representa os valores na camada oculta.\n",
    "\n",
    "        Parameters\n",
    "        ----------\n",
    "        X: Valores dos atributos de entrada, que deverão ser convertidos para \n",
    "        valores na camada oculta pelas funções de kernel.\n",
    "        \"\"\"\n",
    "        features = [kernel(X) for kernel in self.kernels]\n",
    "        features_array = (np.concatenate(features, axis=1))\n",
    "        features_array = np.nan_to_num(x = features_array) # mexi aqui\n",
    "        return features_array\n",
    "\n",
    "    def _linear_fit(self, hidden_X, y):\n",
    "        \"\"\"Realiza o ajuste dos pesos que ligam a Camada Oculta à Camada De Saída.\n",
    "        \n",
    "        O ajuste é realizado através do algoritmo sklearn.linear_model.LinearRegression.\n",
    "        \n",
    "        Parameters\n",
    "        ----------\n",
    "        hidden_X: Os valores da Camada Oculta, ou seja, os valores de entrada\n",
    "        transformados para a camada oculta. Seja X a matriz que contém os valores\n",
    "        que entram na Camada de Entrada: \n",
    "            hidden_X = _self._transformed_inputs(X) \"\"\"\n",
    "        self.algorithm.fit(hidden_X, y)\n"
   ]
  },
  {
   "cell_type": "code",
   "execution_count": 3,
   "metadata": {},
   "outputs": [],
   "source": [
    "db = pd.read_csv(\"C:/Users/thale/Desktop/Faculdade_e_Trabalho/IC/IC2019/CoronaVirus/SpaCovid-19.csv\")\n",
    "log = lambda x: math.log2(x)\n",
    "deslog = lambda x: 2**x\n",
    "Xsp= (db.drop('Y',axis=1))\n",
    "Xsp=Xsp.applymap(log)\n",
    "ysp= (db['Y'])\n",
    "ysp=ysp.apply(log)\n",
    "X_trainsp, X_testsp, y_trainsp, y_testsp = train_test_split(Xsp, ysp, test_size = 0.2, random_state = 0)"
   ]
  },
  {
   "cell_type": "code",
   "execution_count": 4,
   "metadata": {},
   "outputs": [],
   "source": [
    "VetorMSElog = []\n",
    "VetorVarlog = []\n",
    "VetorMSEdeslog = []\n",
    "VetorVardeslog = []\n",
    "menor_erro = 0\n",
    "for l in range(0,10):\n",
    "    x= randint(0, 200)\n",
    "    rbfNetwork = RBFNetwork(2,x)\n",
    "    rbfNetwork.fit(X_trainsp,y_trainsp)\n",
    "    y_predict_trainsp = rbfNetwork.predict(X_trainsp)\n",
    "    y_predict_testsp = rbfNetwork.predict(X_testsp)\n",
    "    \n",
    "    VetorMSElog.append(mean_squared_error(y_testsp,y_predict_testsp))\n",
    "    VetorVarlog.append(explained_variance_score(y_testsp,y_predict_testsp,sample_weight=None, multioutput='uniform_average'))\n",
    "    \n",
    "    VetorMSEdeslog.append(mean_squared_error(deslog(y_testsp), deslog(y_predict_testsp)))\n",
    "    VetorVardeslog.append(explained_variance_score(deslog(y_testsp),deslog(y_predict_testsp)))\n",
    "    \n",
    "    if(menor_erro == 0 | (menor_erro>mean_squared_error(y_testsp,y_predict_testsp))):\n",
    "        menor_erro = mean_squared_error(y_testsp,y_predict_testsp)\n",
    "        var_menor_erro = explained_variance_score(y_testsp,y_predict_testsp,sample_weight=None, multioutput='uniform_average')\n",
    "        bestRBF = rbfNetwork\n",
    "        Y_menor_erro_test = y_predict_testsp\n",
    "        Y_menor_erro_train = y_predict_trainsp"
   ]
  },
  {
   "cell_type": "code",
   "execution_count": 5,
   "metadata": {},
   "outputs": [
    {
     "name": "stdout",
     "output_type": "stream",
     "text": [
      "                         train\n",
      "Mean squared error: 8.99\n",
      "Variance score: 0.78\n"
     ]
    },
    {
     "data": {
      "image/png": "[encoded data removed]",
      "text/plain": [
       "<Figure size 432x288 with 1 Axes>"
      ]
     },
     "metadata": {
      "needs_background": "light"
     },
     "output_type": "display_data"
    }
   ],
   "source": [
    "print(\"                         train\")\n",
    "print(\"Mean squared error: %.2f\"\n",
    "      % mean_squared_error(y_trainsp, Y_menor_erro_train))\n",
    "print('Variance score: %.2f' % explained_variance_score(y_trainsp, Y_menor_erro_train,sample_weight=None, multioutput='uniform_average'))\n",
    "plt.scatter(y_trainsp, Y_menor_erro_train,marker='.')\n",
    "plt.xlabel('Real')\n",
    "plt.ylabel('Predito')\n",
    "plt.show()"
   ]
  },
  {
   "cell_type": "code",
   "execution_count": 6,
   "metadata": {},
   "outputs": [
    {
     "name": "stdout",
     "output_type": "stream",
     "text": [
      "                         test\n",
      "Best Mean squared error: 9.27\n",
      "Mean of MSE: 9.27\n",
      "Variance score: 0.77\n",
      "Mean of Variance: 0.77\n"
     ]
    },
    {
     "data": {
      "image/png": "[encoded data removed]",
      "text/plain": [
       "<Figure size 432x288 with 1 Axes>"
      ]
     },
     "metadata": {
      "needs_background": "light"
     },
     "output_type": "display_data"
    }
   ],
   "source": [
    "print(\"                         test\")\n",
    "print(\"Best Mean squared error: %.2f\"\n",
    "      % menor_erro)\n",
    "print('Mean of MSE: %.2f' % statistics.mean(VetorMSElog))\n",
    "print('Variance score: %.2f' % var_menor_erro)\n",
    "print('Mean of Variance: %.2f' % statistics.mean(VetorVarlog))\n",
    "plt.scatter(y_testsp,Y_menor_erro_test,marker='.')\n",
    "plt.xlabel('Real')\n",
    "plt.ylabel('Predito')\n",
    "plt.show()"
   ]
  },
  {
   "cell_type": "code",
   "execution_count": 7,
   "metadata": {},
   "outputs": [
    {
     "name": "stdout",
     "output_type": "stream",
     "text": [
      "                         train\n",
      "Mean squared error: 2105894640.29\n",
      "Variance score: -0.40\n"
     ]
    },
    {
     "data": {
      "image/png": "[encoded data removed]",
      "text/plain": [
       "<Figure size 432x288 with 1 Axes>"
      ]
     },
     "metadata": {
      "needs_background": "light"
     },
     "output_type": "display_data"
    }
   ],
   "source": [
    "print(\"                         train\")\n",
    "print(\"Mean squared error: %.2f\"\n",
    "      % mean_squared_error(deslog(y_trainsp), deslog(Y_menor_erro_train)))\n",
    "print('Variance score: %.2f' \n",
    "      % explained_variance_score(deslog(y_trainsp), deslog(Y_menor_erro_train),sample_weight=None, multioutput='uniform_average'))\n",
    "plt.scatter(deslog(y_trainsp), deslog(Y_menor_erro_train),marker='.')\n",
    "plt.xlabel('Real')\n",
    "plt.ylabel('Predito')\n",
    "plt.show()"
   ]
  },
  {
   "cell_type": "code",
   "execution_count": 8,
   "metadata": {},
   "outputs": [
    {
     "name": "stdout",
     "output_type": "stream",
     "text": [
      "                         test\n",
      "Best Mean squared error: 1024838490.90\n",
      "Mean of MSE: 1024838490.90\n",
      "Variance score: -7.11\n",
      "Mean of Variance: -7.11\n"
     ]
    },
    {
     "data": {
      "image/png": "[encoded data removed]",
      "text/plain": [
       "<Figure size 432x288 with 1 Axes>"
      ]
     },
     "metadata": {
      "needs_background": "light"
     },
     "output_type": "display_data"
    }
   ],
   "source": [
    "print(\"                         test\")\n",
    "print(\"Best Mean squared error: %.2f\"\n",
    "      % mean_squared_error(deslog(y_testsp),deslog(Y_menor_erro_test)))\n",
    "print('Mean of MSE: %.2f' % statistics.mean(VetorMSEdeslog))\n",
    "print('Variance score: %.2f'\n",
    "     % explained_variance_score(deslog(y_testsp), deslog(Y_menor_erro_test),sample_weight=None, multioutput='uniform_average'))\n",
    "print('Mean of Variance: %.2f' % statistics.mean(VetorVardeslog))\n",
    "plt.scatter(deslog(y_testsp),deslog(Y_menor_erro_test),marker='.')\n",
    "plt.xlabel('Real')\n",
    "plt.ylabel('Predito')\n",
    "plt.show()"
   ]
  },
  {
   "cell_type": "code",
   "execution_count": 9,
   "metadata": {},
   "outputs": [
    {
     "name": "stdout",
     "output_type": "stream",
     "text": [
      "                   Prediction Brazil\n",
      "Mean squared error: 237930501.55\n",
      "Variance score: 0.17\n"
     ]
    },
    {
     "data": {
      "image/png": "[encoded data removed]",
      "text/plain": [
       "<Figure size 432x288 with 1 Axes>"
      ]
     },
     "metadata": {
      "needs_background": "light"
     },
     "output_type": "display_data"
    }
   ],
   "source": [
    "dbBr = pd.read_csv(\"C:/Users/thale/Desktop/Faculdade_e_Trabalho/IC/IC2019/CoronaVirus/Covid-19.csv\")\n",
    "xBr = dbBr.drop('Y', axis=1)\n",
    "xBr= xBr.applymap(log)\n",
    "yBr = dbBr['Y']\n",
    "yBr= yBr.apply(log)\n",
    "for i in range(0,16):\n",
    "    linha = xBr.loc[(13+i)]\n",
    "    Ypred = rbfNetwork.predict([linha])\n",
    "    xBr.at[(14+i),'cases6']=Ypred\n",
    "    xBr.at[(15+i),'cases5']=Ypred\n",
    "    xBr.at[(16+i),'cases4']=Ypred\n",
    "    xBr.at[(17+i),'cases3']=Ypred\n",
    "    xBr.at[(18+i),'cases2']=Ypred\n",
    "    xBr.at[(19+i),'cases1']=Ypred\n",
    "xBr = xBr.applymap(deslog)\n",
    "lista1 = []\n",
    "lista2 = []\n",
    "for i in range(0,35):\n",
    "    lista1.append(i)\n",
    "CovidBr = pd.read_csv(\"C:/Users/thale/Desktop/Faculdade_e_Trabalho/IC/IC2019//CoronaVirus/covid-19UmaColuna.csv\")\n",
    "plt.xlabel('Dias')\n",
    "plt.ylabel('Casos')\n",
    "plt.plot(lista1,xBr['cases1'],linestyle='--', color='r', marker='.', linewidth=0.5)\n",
    "plt.plot(lista1,CovidBr['cases'],linestyle='--', color='b', marker='.', linewidth=0.5)\n",
    "plt.axvline(x=29, ymin=0.1, ymax=0.9) #inicio da quarentena no brasil\n",
    "print(\"                   Prediction Brazil\")\n",
    "print(\"Mean squared error: %.2f\"\n",
    "      % mean_squared_error(xBr['cases1'], CovidBr['cases']))\n",
    "print('Variance score: %.2f' % explained_variance_score(xBr['cases1'], CovidBr['cases'], sample_weight=None, multioutput='uniform_average'))\n"
   ]
  },
  {
   "cell_type": "code",
   "execution_count": 10,
   "metadata": {},
   "outputs": [
    {
     "name": "stdout",
     "output_type": "stream",
     "text": [
      "                   Prediction Spain\n",
      "Mean squared error: 727041892.89\n",
      "Variance score: -0.64\n"
     ]
    },
    {
     "data": {
      "image/png": "[encoded data removed]",
      "text/plain": [
       "<Figure size 432x288 with 1 Axes>"
      ]
     },
     "metadata": {
      "needs_background": "light"
     },
     "output_type": "display_data"
    }
   ],
   "source": [
    "# prever dados da espanha\n",
    "DadosSp=db.drop('Y',axis=1)\n",
    "DadosSp= DadosSp.loc[0:1]\n",
    "DadosSp = DadosSp.applymap(log)\n",
    "for i in range(0,58):\n",
    "    linha = DadosSp.loc[i]\n",
    "    Ypred = rbfNetwork.predict([linha])\n",
    "    DadosSp.at[(1+i),'covid6']=Ypred\n",
    "    DadosSp.at[(1+i),'covid5']=DadosSp.loc[i,['covid6']]\n",
    "    DadosSp.at[(1+i),'covid4']=DadosSp.loc[i,['covid5']]\n",
    "    DadosSp.at[(1+i),'covid3']=DadosSp.loc[i,['covid4']]\n",
    "    DadosSp.at[(1+i),'covid2']=DadosSp.loc[i,['covid3']]\n",
    "    DadosSp.at[(1+i),'covid1']=DadosSp.loc[i,['covid2']]\n",
    "DadosSp = DadosSp.applymap(deslog)\n",
    "lista3 =[]\n",
    "for i in range(0,59):\n",
    "    lista3.append(i)\n",
    "plt.xlabel('Dias')\n",
    "plt.ylabel('Casos')\n",
    "plt.plot(lista3,DadosSp['covid1'],linestyle='--', color='r', marker='.', linewidth=0.5)\n",
    "plt.plot(lista3,db['covid1'],linestyle='--', color='b', marker='.', linewidth=0.5)\n",
    "\n",
    "# comparar com dados \n",
    "# 20 50 100 neuronios, 3 5 e 10 camadas\n",
    "print(\"                   Prediction Spain\")\n",
    "print(\"Mean squared error: %.2f\"\n",
    "      % mean_squared_error(DadosSp['covid1'], db['covid1']))\n",
    "print('Variance score: %.2f' % explained_variance_score(DadosSp['covid1'], db['covid1'], sample_weight=None, multioutput='uniform_average'))\n",
    "# comparar com dados "
   ]
  },
  {
   "cell_type": "markdown",
   "metadata": {},
   "source": [
    "% Vai fazer uma comparação entre três regressores: MLP, RBF, regressão linear\n",
    "\n",
    "% Seção ou Subseção: resultados com dados da radiação Solar\n",
    "\n",
    "% Seção ou Subseção: resultados com dados da Covid-19\n",
    "\n",
    "% Média de 10 simulações - Erro quadrático e variância\n",
    "\n",
    "% Caso a rbf não funcione escrever a analise dela\n",
    "\n",
    "% deslocamento dos dados do na regressão linear e rbf(dia 30)\n",
    "\n",
    "%"
   ]
  },
  {
   "cell_type": "code",
   "execution_count": 11,
   "metadata": {},
   "outputs": [
    {
     "data": {
      "text/plain": [
       "covid1    47\n",
       "covid2    47\n",
       "covid3    47\n",
       "covid4    47\n",
       "covid5    47\n",
       "covid6    47\n",
       "dtype: int64"
      ]
     },
     "execution_count": 11,
     "metadata": {},
     "output_type": "execute_result"
    }
   ],
   "source": [
    "X_trainsp.count()"
   ]
  },
  {
   "cell_type": "code",
   "execution_count": null,
   "metadata": {},
   "outputs": [],
   "source": []
  }
 ],
 "metadata": {
  "kernelspec": {
   "display_name": "Python 3",
   "language": "python",
   "name": "python3"
  },
  "language_info": {
   "codemirror_mode": {
    "name": "ipython",
    "version": 3
   },
   "file_extension": ".py",
   "mimetype": "text/x-python",
   "name": "python",
   "nbconvert_exporter": "python",
   "pygments_lexer": "ipython3",
   "version": "3.7.4"
  }
 },
 "nbformat": 4,
 "nbformat_minor": 2
}
