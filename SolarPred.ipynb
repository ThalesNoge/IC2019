{
 "cells": [
  {
   "cell_type": "code",
   "execution_count": 1,
   "metadata": {},
   "outputs": [],
   "source": [
    "import pandas as pd\n",
    "import seaborn as sns\n",
    "import matplotlib.pyplot as plt\n",
    "from sklearn.preprocessing import StandardScaler\n",
    "from sklearn.model_selection import train_test_split\n",
    "from sklearn.neural_network import MLPRegressor\n",
    "from sklearn.metrics import mean_squared_error, r2_score"
   ]
  },
  {
   "cell_type": "code",
   "execution_count": 2,
   "metadata": {},
   "outputs": [],
   "source": [
    "db = pd.read_csv(\"C:/Users/thale/Desktop/Faculdade_e_Trabalho/IC/IC2019/SolarPrediction.csv\")"
   ]
  },
  {
   "cell_type": "code",
   "execution_count": 3,
   "metadata": {},
   "outputs": [
    {
     "data": {
      "text/html": [
       "<div>\n",
       "<style scoped>\n",
       "    .dataframe tbody tr th:only-of-type {\n",
       "        vertical-align: middle;\n",
       "    }\n",
       "\n",
       "    .dataframe tbody tr th {\n",
       "        vertical-align: top;\n",
       "    }\n",
       "\n",
       "    .dataframe thead th {\n",
       "        text-align: right;\n",
       "    }\n",
       "</style>\n",
       "<table border=\"1\" class=\"dataframe\">\n",
       "  <thead>\n",
       "    <tr style=\"text-align: right;\">\n",
       "      <th></th>\n",
       "      <th>UNIXTime</th>\n",
       "      <th>Data</th>\n",
       "      <th>Time</th>\n",
       "      <th>Radiation</th>\n",
       "      <th>Temperature</th>\n",
       "      <th>Pressure</th>\n",
       "      <th>Humidity</th>\n",
       "      <th>WindDirection(Degrees)</th>\n",
       "      <th>Speed</th>\n",
       "      <th>TimeSunRise</th>\n",
       "      <th>TimeSunSet</th>\n",
       "    </tr>\n",
       "  </thead>\n",
       "  <tbody>\n",
       "    <tr>\n",
       "      <td>7416</td>\n",
       "      <td>1472724008</td>\n",
       "      <td>9/1/2016 12:00:00 AM</td>\n",
       "      <td>00:00:08</td>\n",
       "      <td>2.58</td>\n",
       "      <td>51</td>\n",
       "      <td>30.43</td>\n",
       "      <td>103</td>\n",
       "      <td>77.27</td>\n",
       "      <td>11.25</td>\n",
       "      <td>06:07:00</td>\n",
       "      <td>18:38:00</td>\n",
       "    </tr>\n",
       "    <tr>\n",
       "      <td>7415</td>\n",
       "      <td>1472724310</td>\n",
       "      <td>9/1/2016 12:00:00 AM</td>\n",
       "      <td>00:05:10</td>\n",
       "      <td>2.83</td>\n",
       "      <td>51</td>\n",
       "      <td>30.43</td>\n",
       "      <td>103</td>\n",
       "      <td>153.44</td>\n",
       "      <td>9.00</td>\n",
       "      <td>06:07:00</td>\n",
       "      <td>18:38:00</td>\n",
       "    </tr>\n",
       "    <tr>\n",
       "      <td>7414</td>\n",
       "      <td>1472725206</td>\n",
       "      <td>9/1/2016 12:00:00 AM</td>\n",
       "      <td>00:20:06</td>\n",
       "      <td>2.16</td>\n",
       "      <td>51</td>\n",
       "      <td>30.43</td>\n",
       "      <td>103</td>\n",
       "      <td>142.04</td>\n",
       "      <td>7.87</td>\n",
       "      <td>06:07:00</td>\n",
       "      <td>18:38:00</td>\n",
       "    </tr>\n",
       "    <tr>\n",
       "      <td>7413</td>\n",
       "      <td>1472725505</td>\n",
       "      <td>9/1/2016 12:00:00 AM</td>\n",
       "      <td>00:25:05</td>\n",
       "      <td>2.21</td>\n",
       "      <td>51</td>\n",
       "      <td>30.43</td>\n",
       "      <td>103</td>\n",
       "      <td>144.12</td>\n",
       "      <td>18.00</td>\n",
       "      <td>06:07:00</td>\n",
       "      <td>18:38:00</td>\n",
       "    </tr>\n",
       "    <tr>\n",
       "      <td>7412</td>\n",
       "      <td>1472725809</td>\n",
       "      <td>9/1/2016 12:00:00 AM</td>\n",
       "      <td>00:30:09</td>\n",
       "      <td>2.25</td>\n",
       "      <td>51</td>\n",
       "      <td>30.43</td>\n",
       "      <td>103</td>\n",
       "      <td>67.42</td>\n",
       "      <td>11.25</td>\n",
       "      <td>06:07:00</td>\n",
       "      <td>18:38:00</td>\n",
       "    </tr>\n",
       "  </tbody>\n",
       "</table>\n",
       "</div>"
      ],
      "text/plain": [
       "        UNIXTime                  Data      Time  Radiation  Temperature  \\\n",
       "7416  1472724008  9/1/2016 12:00:00 AM  00:00:08       2.58           51   \n",
       "7415  1472724310  9/1/2016 12:00:00 AM  00:05:10       2.83           51   \n",
       "7414  1472725206  9/1/2016 12:00:00 AM  00:20:06       2.16           51   \n",
       "7413  1472725505  9/1/2016 12:00:00 AM  00:25:05       2.21           51   \n",
       "7412  1472725809  9/1/2016 12:00:00 AM  00:30:09       2.25           51   \n",
       "\n",
       "      Pressure  Humidity  WindDirection(Degrees)  Speed TimeSunRise TimeSunSet  \n",
       "7416     30.43       103                   77.27  11.25    06:07:00   18:38:00  \n",
       "7415     30.43       103                  153.44   9.00    06:07:00   18:38:00  \n",
       "7414     30.43       103                  142.04   7.87    06:07:00   18:38:00  \n",
       "7413     30.43       103                  144.12  18.00    06:07:00   18:38:00  \n",
       "7412     30.43       103                   67.42  11.25    06:07:00   18:38:00  "
      ]
     },
     "execution_count": 3,
     "metadata": {},
     "output_type": "execute_result"
    }
   ],
   "source": [
    "db = db.sort_values(['UNIXTime'], ascending = [True])\n",
    "db.head()"
   ]
  },
  {
   "cell_type": "code",
   "execution_count": 4,
   "metadata": {},
   "outputs": [
    {
     "data": {
      "text/html": [
       "<div>\n",
       "<style scoped>\n",
       "    .dataframe tbody tr th:only-of-type {\n",
       "        vertical-align: middle;\n",
       "    }\n",
       "\n",
       "    .dataframe tbody tr th {\n",
       "        vertical-align: top;\n",
       "    }\n",
       "\n",
       "    .dataframe thead th {\n",
       "        text-align: right;\n",
       "    }\n",
       "</style>\n",
       "<table border=\"1\" class=\"dataframe\">\n",
       "  <thead>\n",
       "    <tr style=\"text-align: right;\">\n",
       "      <th></th>\n",
       "      <th>Radiation</th>\n",
       "      <th>Temperature</th>\n",
       "      <th>Pressure</th>\n",
       "      <th>Humidity</th>\n",
       "      <th>WindDirection(Degrees)</th>\n",
       "      <th>Speed</th>\n",
       "      <th>MonthOfYear</th>\n",
       "      <th>DayOfYear</th>\n",
       "      <th>WeekOfYear</th>\n",
       "      <th>TimeOfDay(h)</th>\n",
       "      <th>TimeOfDay(m)</th>\n",
       "      <th>TimeOfDay(s)</th>\n",
       "      <th>DayLength(s)</th>\n",
       "    </tr>\n",
       "    <tr>\n",
       "      <th>UNIXTime</th>\n",
       "      <th></th>\n",
       "      <th></th>\n",
       "      <th></th>\n",
       "      <th></th>\n",
       "      <th></th>\n",
       "      <th></th>\n",
       "      <th></th>\n",
       "      <th></th>\n",
       "      <th></th>\n",
       "      <th></th>\n",
       "      <th></th>\n",
       "      <th></th>\n",
       "      <th></th>\n",
       "    </tr>\n",
       "  </thead>\n",
       "  <tbody>\n",
       "    <tr>\n",
       "      <td>2016-09-01 00:00:08-10:00</td>\n",
       "      <td>2.58</td>\n",
       "      <td>51</td>\n",
       "      <td>30.43</td>\n",
       "      <td>103</td>\n",
       "      <td>77.27</td>\n",
       "      <td>11.25</td>\n",
       "      <td>9</td>\n",
       "      <td>245</td>\n",
       "      <td>35</td>\n",
       "      <td>0</td>\n",
       "      <td>0</td>\n",
       "      <td>8</td>\n",
       "      <td>45060</td>\n",
       "    </tr>\n",
       "    <tr>\n",
       "      <td>2016-09-01 00:05:10-10:00</td>\n",
       "      <td>2.83</td>\n",
       "      <td>51</td>\n",
       "      <td>30.43</td>\n",
       "      <td>103</td>\n",
       "      <td>153.44</td>\n",
       "      <td>9.00</td>\n",
       "      <td>9</td>\n",
       "      <td>245</td>\n",
       "      <td>35</td>\n",
       "      <td>0</td>\n",
       "      <td>5</td>\n",
       "      <td>310</td>\n",
       "      <td>45060</td>\n",
       "    </tr>\n",
       "    <tr>\n",
       "      <td>2016-09-01 00:20:06-10:00</td>\n",
       "      <td>2.16</td>\n",
       "      <td>51</td>\n",
       "      <td>30.43</td>\n",
       "      <td>103</td>\n",
       "      <td>142.04</td>\n",
       "      <td>7.87</td>\n",
       "      <td>9</td>\n",
       "      <td>245</td>\n",
       "      <td>35</td>\n",
       "      <td>0</td>\n",
       "      <td>20</td>\n",
       "      <td>1206</td>\n",
       "      <td>45060</td>\n",
       "    </tr>\n",
       "    <tr>\n",
       "      <td>2016-09-01 00:25:05-10:00</td>\n",
       "      <td>2.21</td>\n",
       "      <td>51</td>\n",
       "      <td>30.43</td>\n",
       "      <td>103</td>\n",
       "      <td>144.12</td>\n",
       "      <td>18.00</td>\n",
       "      <td>9</td>\n",
       "      <td>245</td>\n",
       "      <td>35</td>\n",
       "      <td>0</td>\n",
       "      <td>25</td>\n",
       "      <td>1505</td>\n",
       "      <td>45060</td>\n",
       "    </tr>\n",
       "    <tr>\n",
       "      <td>2016-09-01 00:30:09-10:00</td>\n",
       "      <td>2.25</td>\n",
       "      <td>51</td>\n",
       "      <td>30.43</td>\n",
       "      <td>103</td>\n",
       "      <td>67.42</td>\n",
       "      <td>11.25</td>\n",
       "      <td>9</td>\n",
       "      <td>245</td>\n",
       "      <td>35</td>\n",
       "      <td>0</td>\n",
       "      <td>30</td>\n",
       "      <td>1809</td>\n",
       "      <td>45060</td>\n",
       "    </tr>\n",
       "  </tbody>\n",
       "</table>\n",
       "</div>"
      ],
      "text/plain": [
       "                           Radiation  Temperature  Pressure  Humidity  \\\n",
       "UNIXTime                                                                \n",
       "2016-09-01 00:00:08-10:00       2.58           51     30.43       103   \n",
       "2016-09-01 00:05:10-10:00       2.83           51     30.43       103   \n",
       "2016-09-01 00:20:06-10:00       2.16           51     30.43       103   \n",
       "2016-09-01 00:25:05-10:00       2.21           51     30.43       103   \n",
       "2016-09-01 00:30:09-10:00       2.25           51     30.43       103   \n",
       "\n",
       "                           WindDirection(Degrees)  Speed  MonthOfYear  \\\n",
       "UNIXTime                                                                \n",
       "2016-09-01 00:00:08-10:00                   77.27  11.25            9   \n",
       "2016-09-01 00:05:10-10:00                  153.44   9.00            9   \n",
       "2016-09-01 00:20:06-10:00                  142.04   7.87            9   \n",
       "2016-09-01 00:25:05-10:00                  144.12  18.00            9   \n",
       "2016-09-01 00:30:09-10:00                   67.42  11.25            9   \n",
       "\n",
       "                           DayOfYear  WeekOfYear  TimeOfDay(h)  TimeOfDay(m)  \\\n",
       "UNIXTime                                                                       \n",
       "2016-09-01 00:00:08-10:00        245          35             0             0   \n",
       "2016-09-01 00:05:10-10:00        245          35             0             5   \n",
       "2016-09-01 00:20:06-10:00        245          35             0            20   \n",
       "2016-09-01 00:25:05-10:00        245          35             0            25   \n",
       "2016-09-01 00:30:09-10:00        245          35             0            30   \n",
       "\n",
       "                           TimeOfDay(s)  DayLength(s)  \n",
       "UNIXTime                                               \n",
       "2016-09-01 00:00:08-10:00             8         45060  \n",
       "2016-09-01 00:05:10-10:00           310         45060  \n",
       "2016-09-01 00:20:06-10:00          1206         45060  \n",
       "2016-09-01 00:25:05-10:00          1505         45060  \n",
       "2016-09-01 00:30:09-10:00          1809         45060  "
      ]
     },
     "execution_count": 4,
     "metadata": {},
     "output_type": "execute_result"
    }
   ],
   "source": [
    "from datetime import datetime   #funções das 6 primeiras linhas\n",
    "from pytz import timezone\n",
    "import pytz\n",
    "hawaii= timezone('Pacific/Honolulu')\n",
    "db.index =  pd.to_datetime(db['UNIXTime'], unit='s')\n",
    "db.index = db.index.tz_localize(pytz.utc).tz_convert(hawaii)\n",
    "db['MonthOfYear'] = db.index.strftime('%m').astype(int)\n",
    "db['DayOfYear'] = db.index.strftime('%j').astype(int)\n",
    "db['WeekOfYear'] = db.index.strftime('%U').astype(int)\n",
    "db['TimeOfDay(h)'] = db.index.hour\n",
    "db['TimeOfDay(m)'] = db.index.hour*60 + db.index.minute\n",
    "db['TimeOfDay(s)'] = db.index.hour*60*60 + db.index.minute*60 + db.index.second\n",
    "db['TimeSunRise'] = pd.to_datetime(db['TimeSunRise'], format='%H:%M:%S')\n",
    "db['TimeSunSet'] = pd.to_datetime(db['TimeSunSet'], format='%H:%M:%S')\n",
    "db['DayLength(s)'] = db['TimeSunSet'].dt.hour*60*60 \\\n",
    "                           + db['TimeSunSet'].dt.minute*60 \\\n",
    "                           + db['TimeSunSet'].dt.second \\\n",
    "                           - db['TimeSunRise'].dt.hour*60*60 \\\n",
    "                           - db['TimeSunRise'].dt.minute*60 \\\n",
    "                           - db['TimeSunRise'].dt.second\n",
    "db.drop(['Data','Time','TimeSunRise','TimeSunSet','UNIXTime'], inplace=True, axis=1)\n",
    "db.head()"
   ]
  },
  {
   "cell_type": "code",
   "execution_count": 5,
   "metadata": {},
   "outputs": [
    {
     "name": "stdout",
     "output_type": "stream",
     "text": [
      "Training MLPRegressor...\n"
     ]
    },
    {
     "data": {
      "text/plain": [
       "MLPRegressor(activation='relu', alpha=0.0001, batch_size='auto', beta_1=0.9,\n",
       "             beta_2=0.999, early_stopping=False, epsilon=1e-08,\n",
       "             hidden_layer_sizes=(20, 20, 20, 20, 20), learning_rate='adaptive',\n",
       "             learning_rate_init=0.1, max_iter=10000, momentum=0.9,\n",
       "             n_iter_no_change=10, nesterovs_momentum=True, power_t=0.5,\n",
       "             random_state=None, shuffle=False, solver='adam', tol=0.0001,\n",
       "             validation_fraction=0.1, verbose=False, warm_start=False)"
      ]
     },
     "execution_count": 5,
     "metadata": {},
     "output_type": "execute_result"
    }
   ],
   "source": [
    "X = db.drop('Radiation', axis = 1)\n",
    "X = StandardScaler().fit_transform(X)\n",
    "y = db['Radiation']\n",
    "X_train, X_test, y_train, y_test = train_test_split(X, y, test_size = 0.2, random_state = 0)\n",
    "print(\"Training MLPRegressor...\")\n",
    "reg = MLPRegressor(hidden_layer_sizes =(20,20,20,20,20 ),solver='adam',activation = 'relu',learning_rate='adaptive',learning_rate_init = 0.1,max_iter=10000, shuffle = False)\n",
    "reg.fit(X_train,y_train)"
   ]
  },
  {
   "cell_type": "code",
   "execution_count": 6,
   "metadata": {},
   "outputs": [
    {
     "name": "stdout",
     "output_type": "stream",
     "text": [
      "Resultados\n",
      "Mean squared error: 10419.30\n",
      "Variance score: 0.90\n"
     ]
    },
    {
     "data": {
      "image/png": "[encoded data removed]",
      "text/plain": [
       "<Figure size 432x288 with 1 Axes>"
      ]
     },
     "metadata": {
      "needs_background": "light"
     },
     "output_type": "display_data"
    }
   ],
   "source": [
    "y_predict= reg.predict(X_test)\n",
    "print(\"Resultados\")\n",
    "print(\"Mean squared error: %.2f\"\n",
    "      % mean_squared_error(y_test, y_predict))\n",
    "print('Variance score: %.2f' % r2_score(y_test, y_predict))\n",
    "plt.scatter(y_test,y_predict,marker='.')\n",
    "plt.show()"
   ]
  },
  {
   "cell_type": "code",
   "execution_count": 7,
   "metadata": {},
   "outputs": [
    {
     "name": "stdout",
     "output_type": "stream",
     "text": [
      "teste de overfiting\n",
      "Mean squared error: 9504.25\n",
      "Variance score: 0.90\n"
     ]
    },
    {
     "data": {
      "image/png": "[encoded data removed]",
      "text/plain": [
       "<Figure size 432x288 with 1 Axes>"
      ]
     },
     "metadata": {
      "needs_background": "light"
     },
     "output_type": "display_data"
    }
   ],
   "source": [
    "y_predict_train = reg.predict(X_train)\n",
    "print(\"teste de overfiting\")\n",
    "print(\"Mean squared error: %.2f\"\n",
    "      % mean_squared_error(y_train, y_predict_train))\n",
    "print('Variance score: %.2f' % r2_score(y_train, y_predict_train))\n",
    "plt.scatter(y_train,y_predict_train,marker='.')\n",
    "plt.show()\n"
   ]
  },
  {
   "cell_type": "code",
   "execution_count": null,
   "metadata": {},
   "outputs": [],
   "source": []
  }
 ],
 "metadata": {
  "kernelspec": {
   "display_name": "Python 3",
   "language": "python",
   "name": "python3"
  },
  "language_info": {
   "codemirror_mode": {
    "name": "ipython",
    "version": 3
   },
   "file_extension": ".py",
   "mimetype": "text/x-python",
   "name": "python",
   "nbconvert_exporter": "python",
   "pygments_lexer": "ipython3",
   "version": "3.7.4"
  }
 },
 "nbformat": 4,
 "nbformat_minor": 2
}
