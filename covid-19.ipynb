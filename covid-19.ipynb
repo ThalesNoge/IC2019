{
 "cells": [
  {
   "cell_type": "code",
   "execution_count": 1,
   "metadata": {},
   "outputs": [],
   "source": [
    "import pandas as pd\n",
    "import seaborn as sns\n",
    "import matplotlib.pyplot as plt\n",
    "from sklearn.preprocessing import StandardScaler\n",
    "from sklearn.preprocessing import normalize\n",
    "from sklearn.model_selection import train_test_split\n",
    "from sklearn.neural_network import MLPRegressor\n",
    "from sklearn.metrics import mean_squared_error, r2_score"
   ]
  },
  {
   "cell_type": "code",
   "execution_count": 2,
   "metadata": {},
   "outputs": [],
   "source": [
    "db = pd.read_csv(\"C:/Users/thale/Desktop/Faculdade_e_Trabalho/IC/IC2019/itaCovid-19.csv\")"
   ]
  },
  {
   "cell_type": "code",
   "execution_count": 3,
   "metadata": {},
   "outputs": [
    {
     "data": {
      "text/html": [
       "<div>\n",
       "<style scoped>\n",
       "    .dataframe tbody tr th:only-of-type {\n",
       "        vertical-align: middle;\n",
       "    }\n",
       "\n",
       "    .dataframe tbody tr th {\n",
       "        vertical-align: top;\n",
       "    }\n",
       "\n",
       "    .dataframe thead th {\n",
       "        text-align: right;\n",
       "    }\n",
       "</style>\n",
       "<table border=\"1\" class=\"dataframe\">\n",
       "  <thead>\n",
       "    <tr style=\"text-align: right;\">\n",
       "      <th></th>\n",
       "      <th>covid1</th>\n",
       "      <th>covid2</th>\n",
       "      <th>covid3</th>\n",
       "      <th>covid4</th>\n",
       "    </tr>\n",
       "  </thead>\n",
       "  <tbody>\n",
       "    <tr>\n",
       "      <td>0</td>\n",
       "      <td>3</td>\n",
       "      <td>3</td>\n",
       "      <td>3</td>\n",
       "      <td>17</td>\n",
       "    </tr>\n",
       "    <tr>\n",
       "      <td>1</td>\n",
       "      <td>3</td>\n",
       "      <td>3</td>\n",
       "      <td>17</td>\n",
       "      <td>79</td>\n",
       "    </tr>\n",
       "    <tr>\n",
       "      <td>2</td>\n",
       "      <td>3</td>\n",
       "      <td>17</td>\n",
       "      <td>79</td>\n",
       "      <td>132</td>\n",
       "    </tr>\n",
       "    <tr>\n",
       "      <td>3</td>\n",
       "      <td>17</td>\n",
       "      <td>79</td>\n",
       "      <td>132</td>\n",
       "      <td>229</td>\n",
       "    </tr>\n",
       "    <tr>\n",
       "      <td>4</td>\n",
       "      <td>79</td>\n",
       "      <td>132</td>\n",
       "      <td>229</td>\n",
       "      <td>322</td>\n",
       "    </tr>\n",
       "    <tr>\n",
       "      <td>5</td>\n",
       "      <td>132</td>\n",
       "      <td>229</td>\n",
       "      <td>322</td>\n",
       "      <td>400</td>\n",
       "    </tr>\n",
       "    <tr>\n",
       "      <td>6</td>\n",
       "      <td>229</td>\n",
       "      <td>322</td>\n",
       "      <td>400</td>\n",
       "      <td>650</td>\n",
       "    </tr>\n",
       "    <tr>\n",
       "      <td>7</td>\n",
       "      <td>322</td>\n",
       "      <td>400</td>\n",
       "      <td>650</td>\n",
       "      <td>888</td>\n",
       "    </tr>\n",
       "    <tr>\n",
       "      <td>8</td>\n",
       "      <td>400</td>\n",
       "      <td>650</td>\n",
       "      <td>888</td>\n",
       "      <td>1128</td>\n",
       "    </tr>\n",
       "    <tr>\n",
       "      <td>9</td>\n",
       "      <td>650</td>\n",
       "      <td>888</td>\n",
       "      <td>1128</td>\n",
       "      <td>1689</td>\n",
       "    </tr>\n",
       "    <tr>\n",
       "      <td>10</td>\n",
       "      <td>888</td>\n",
       "      <td>1128</td>\n",
       "      <td>1689</td>\n",
       "      <td>1835</td>\n",
       "    </tr>\n",
       "    <tr>\n",
       "      <td>11</td>\n",
       "      <td>1128</td>\n",
       "      <td>1689</td>\n",
       "      <td>1835</td>\n",
       "      <td>2502</td>\n",
       "    </tr>\n",
       "    <tr>\n",
       "      <td>12</td>\n",
       "      <td>1689</td>\n",
       "      <td>1835</td>\n",
       "      <td>2502</td>\n",
       "      <td>3089</td>\n",
       "    </tr>\n",
       "    <tr>\n",
       "      <td>13</td>\n",
       "      <td>1835</td>\n",
       "      <td>2502</td>\n",
       "      <td>3089</td>\n",
       "      <td>3858</td>\n",
       "    </tr>\n",
       "    <tr>\n",
       "      <td>14</td>\n",
       "      <td>2502</td>\n",
       "      <td>3089</td>\n",
       "      <td>3858</td>\n",
       "      <td>4636</td>\n",
       "    </tr>\n",
       "    <tr>\n",
       "      <td>15</td>\n",
       "      <td>3089</td>\n",
       "      <td>3858</td>\n",
       "      <td>4636</td>\n",
       "      <td>5883</td>\n",
       "    </tr>\n",
       "    <tr>\n",
       "      <td>16</td>\n",
       "      <td>3858</td>\n",
       "      <td>4636</td>\n",
       "      <td>5883</td>\n",
       "      <td>7375</td>\n",
       "    </tr>\n",
       "    <tr>\n",
       "      <td>17</td>\n",
       "      <td>4636</td>\n",
       "      <td>5883</td>\n",
       "      <td>7375</td>\n",
       "      <td>9172</td>\n",
       "    </tr>\n",
       "    <tr>\n",
       "      <td>18</td>\n",
       "      <td>5883</td>\n",
       "      <td>7375</td>\n",
       "      <td>9172</td>\n",
       "      <td>10149</td>\n",
       "    </tr>\n",
       "    <tr>\n",
       "      <td>19</td>\n",
       "      <td>7375</td>\n",
       "      <td>9172</td>\n",
       "      <td>10149</td>\n",
       "      <td>12462</td>\n",
       "    </tr>\n",
       "    <tr>\n",
       "      <td>20</td>\n",
       "      <td>9172</td>\n",
       "      <td>10149</td>\n",
       "      <td>12462</td>\n",
       "      <td>15113</td>\n",
       "    </tr>\n",
       "    <tr>\n",
       "      <td>21</td>\n",
       "      <td>10149</td>\n",
       "      <td>12462</td>\n",
       "      <td>15113</td>\n",
       "      <td>17660</td>\n",
       "    </tr>\n",
       "    <tr>\n",
       "      <td>22</td>\n",
       "      <td>12462</td>\n",
       "      <td>15113</td>\n",
       "      <td>17660</td>\n",
       "      <td>17750</td>\n",
       "    </tr>\n",
       "    <tr>\n",
       "      <td>23</td>\n",
       "      <td>15113</td>\n",
       "      <td>17660</td>\n",
       "      <td>17750</td>\n",
       "      <td>23980</td>\n",
       "    </tr>\n",
       "    <tr>\n",
       "      <td>24</td>\n",
       "      <td>17660</td>\n",
       "      <td>17750</td>\n",
       "      <td>23980</td>\n",
       "      <td>27980</td>\n",
       "    </tr>\n",
       "    <tr>\n",
       "      <td>25</td>\n",
       "      <td>17750</td>\n",
       "      <td>23980</td>\n",
       "      <td>27980</td>\n",
       "      <td>31506</td>\n",
       "    </tr>\n",
       "    <tr>\n",
       "      <td>26</td>\n",
       "      <td>23980</td>\n",
       "      <td>27980</td>\n",
       "      <td>31506</td>\n",
       "      <td>35713</td>\n",
       "    </tr>\n",
       "    <tr>\n",
       "      <td>27</td>\n",
       "      <td>27980</td>\n",
       "      <td>31506</td>\n",
       "      <td>35713</td>\n",
       "      <td>41035</td>\n",
       "    </tr>\n",
       "    <tr>\n",
       "      <td>28</td>\n",
       "      <td>31506</td>\n",
       "      <td>35713</td>\n",
       "      <td>41035</td>\n",
       "      <td>47021</td>\n",
       "    </tr>\n",
       "    <tr>\n",
       "      <td>29</td>\n",
       "      <td>35713</td>\n",
       "      <td>41035</td>\n",
       "      <td>47021</td>\n",
       "      <td>53578</td>\n",
       "    </tr>\n",
       "  </tbody>\n",
       "</table>\n",
       "</div>"
      ],
      "text/plain": [
       "    covid1  covid2  covid3  covid4\n",
       "0        3       3       3      17\n",
       "1        3       3      17      79\n",
       "2        3      17      79     132\n",
       "3       17      79     132     229\n",
       "4       79     132     229     322\n",
       "5      132     229     322     400\n",
       "6      229     322     400     650\n",
       "7      322     400     650     888\n",
       "8      400     650     888    1128\n",
       "9      650     888    1128    1689\n",
       "10     888    1128    1689    1835\n",
       "11    1128    1689    1835    2502\n",
       "12    1689    1835    2502    3089\n",
       "13    1835    2502    3089    3858\n",
       "14    2502    3089    3858    4636\n",
       "15    3089    3858    4636    5883\n",
       "16    3858    4636    5883    7375\n",
       "17    4636    5883    7375    9172\n",
       "18    5883    7375    9172   10149\n",
       "19    7375    9172   10149   12462\n",
       "20    9172   10149   12462   15113\n",
       "21   10149   12462   15113   17660\n",
       "22   12462   15113   17660   17750\n",
       "23   15113   17660   17750   23980\n",
       "24   17660   17750   23980   27980\n",
       "25   17750   23980   27980   31506\n",
       "26   23980   27980   31506   35713\n",
       "27   27980   31506   35713   41035\n",
       "28   31506   35713   41035   47021\n",
       "29   35713   41035   47021   53578"
      ]
     },
     "execution_count": 3,
     "metadata": {},
     "output_type": "execute_result"
    }
   ],
   "source": [
    "db"
   ]
  },
  {
   "cell_type": "code",
   "execution_count": 4,
   "metadata": {},
   "outputs": [
    {
     "name": "stdout",
     "output_type": "stream",
     "text": [
      "Training MLPRegressor...\n"
     ]
    },
    {
     "data": {
      "text/plain": [
       "MLPRegressor(activation='relu', alpha=0.0001, batch_size='auto', beta_1=0.9,\n",
       "             beta_2=0.999, early_stopping=False, epsilon=1e-08,\n",
       "             hidden_layer_sizes=(5, 10, 5), learning_rate='adaptive',\n",
       "             learning_rate_init=0.1, max_iter=10000, momentum=0.9,\n",
       "             n_iter_no_change=10, nesterovs_momentum=True, power_t=0.5,\n",
       "             random_state=None, shuffle=False, solver='adam', tol=0.0001,\n",
       "             validation_fraction=0.1, verbose=False, warm_start=False)"
      ]
     },
     "execution_count": 4,
     "metadata": {},
     "output_type": "execute_result"
    }
   ],
   "source": [
    "y=db[\"covid4\"];\n",
    "X=db.drop('covid4', axis=1)\n",
    "X_train, X_test, y_train, y_test = train_test_split(X, y, test_size = 0.1, random_state = 0)\n",
    "print(\"Training MLPRegressor...\") #20, 50, 100, 150\n",
    "reg = MLPRegressor(hidden_layer_sizes =(5,10,5 ),solver='adam',activation = 'relu',learning_rate='adaptive',learning_rate_init = 0.1,max_iter=10000, shuffle = False)\n",
    "reg.fit(X_train,y_train)"
   ]
  },
  {
   "cell_type": "code",
   "execution_count": 5,
   "metadata": {},
   "outputs": [
    {
     "name": "stdout",
     "output_type": "stream",
     "text": [
      "teste de overfiting\n",
      "Mean squared error: 2843580.17\n",
      "Variance score: 0.99\n"
     ]
    },
    {
     "data": {
      "image/png": "[encoded data removed]",
      "text/plain": [
       "<Figure size 432x288 with 1 Axes>"
      ]
     },
     "metadata": {
      "needs_background": "light"
     },
     "output_type": "display_data"
    }
   ],
   "source": [
    "y_predict_train = reg.predict(X_train)\n",
    "print(\"teste de overfiting\")\n",
    "print(\"Mean squared error: %.2f\"\n",
    "      % mean_squared_error(y_train, y_predict_train))\n",
    "print('Variance score: %.2f' % r2_score(y_train, y_predict_train))\n",
    "plt.scatter(y_train,y_predict_train,marker='.')\n",
    "plt.show()\n"
   ]
  },
  {
   "cell_type": "code",
   "execution_count": 6,
   "metadata": {
    "scrolled": true
   },
   "outputs": [
    {
     "name": "stdout",
     "output_type": "stream",
     "text": [
      "Resultados\n",
      "Mean squared error: 2239788.88\n",
      "Variance score: 1.00\n"
     ]
    },
    {
     "data": {
      "image/png": "[encoded data removed]",
      "text/plain": [
       "<Figure size 432x288 with 1 Axes>"
      ]
     },
     "metadata": {
      "needs_background": "light"
     },
     "output_type": "display_data"
    }
   ],
   "source": [
    "y_predict= reg.predict(X_test)\n",
    "print(\"Resultados\")\n",
    "print(\"Mean squared error: %.2f\"\n",
    "      % mean_squared_error(y_test, y_predict))\n",
    "print('Variance score: %.2f' % r2_score(y_test, y_predict))\n",
    "plt.scatter(y_test,y_predict,marker='.')\n",
    "plt.show()"
   ]
  },
  {
   "cell_type": "code",
   "execution_count": 7,
   "metadata": {},
   "outputs": [],
   "source": [
    "dbBr = pd.read_csv(\"C:/Users/thale/Desktop/Faculdade_e_Trabalho/IC/IC2019/Covid-19.csv\")\n",
    "dbBr = dbBr.drop('resp',axis=1)\n",
    "xBr = dbBr.drop('casos4', axis=1)\n",
    "yBr = dbBr['casos4']"
   ]
  },
  {
   "cell_type": "code",
   "execution_count": 8,
   "metadata": {},
   "outputs": [
    {
     "name": "stdout",
     "output_type": "stream",
     "text": [
      "Resultados\n",
      "Mean squared error: 5973.90\n",
      "Variance score: 0.79\n"
     ]
    },
    {
     "data": {
      "image/png": "[encoded data removed]",
      "text/plain": [
       "<Figure size 432x288 with 1 Axes>"
      ]
     },
     "metadata": {
      "needs_background": "light"
     },
     "output_type": "display_data"
    }
   ],
   "source": [
    "YbrPred = reg.predict(xBr)\n",
    "print(\"Resultados\")\n",
    "print(\"Mean squared error: %.2f\"\n",
    "      % mean_squared_error(yBr, YbrPred))\n",
    "print('Variance score: %.2f' % r2_score(yBr, YbrPred))\n",
    "plt.scatter(yBr, YbrPred,marker='.')\n",
    "plt.show()"
   ]
  },
  {
   "cell_type": "code",
   "execution_count": null,
   "metadata": {},
   "outputs": [],
   "source": []
  }
 ],
 "metadata": {
  "kernelspec": {
   "display_name": "Python 3",
   "language": "python",
   "name": "python3"
  },
  "language_info": {
   "codemirror_mode": {
    "name": "ipython",
    "version": 3
   },
   "file_extension": ".py",
   "mimetype": "text/x-python",
   "name": "python",
   "nbconvert_exporter": "python",
   "pygments_lexer": "ipython3",
   "version": "3.7.4"
  }
 },
 "nbformat": 4,
 "nbformat_minor": 2
}
